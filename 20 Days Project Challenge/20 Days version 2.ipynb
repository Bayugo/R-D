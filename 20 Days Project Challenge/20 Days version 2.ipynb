{
 "cells": [
  {
   "cell_type": "markdown",
   "id": "b15c463c",
   "metadata": {},
   "source": [
    "# Unlocking Insights from Retail Data\n",
    "Retail businesses generate vast amounts of data daily, and within this data lies the key to understanding customer behavior, optimizing operations, and driving revenue growth. For this exercise, we will explore a dataset containing retail transaction data spanning two time periods: 2009-2010 and 2010-2011.\n",
    "\n",
    "## This dataset includes information such as:\n",
    "•⁠ ⁠Invoice Number: A unique identifier for each transaction.\n",
    "\n",
    "•⁠ ⁠Stock Code: Unique codes for each product sold.\n",
    "\n",
    "•⁠ ⁠Description: Detailed information about the products.\n",
    "\n",
    "•⁠ ⁠Quantity: The number of items purchased in each transaction.\n",
    "\n",
    "•⁠ ⁠Invoice Date: The date and time of the transaction.\n",
    "\n",
    "•⁠ ⁠Unit Price: Price per unit of each product.\n",
    "\n",
    "•⁠ ⁠Customer ID: An anonymized identifier for each customer.\n",
    "\n",
    "•⁠ ⁠Country: The country where the transaction took place.\n",
    "\n",
    "## Task Instructions for Mentees\n",
    "\n",
    "Your task is to perform a clustering analysis on this dataset to group customers or transactions into meaningful segments. Considerations:\n",
    "\n",
    "•⁠ ⁠Use features every possible feature to cluster customers based on purchasing patterns.\n",
    "\n",
    "•⁠ ⁠Explore clustering algorithms such as K-Means, DBSCAN, or Hierarchical Clustering.\n",
    "\n",
    "•⁠ ⁠Visualize the clusters and interpret the results to understand customer behavior.\n",
    "\n",
    "## Submission Guidelines\n",
    "Submit your findings and insights to info@oaorogun.co.uk. Be sure to include:\n",
    "\n",
    "•⁠ ⁠For data analysts: A comprehensive report with charts and insights.\n",
    "\n",
    "•⁠ ⁠For data scientists: A detailed explanation of your clustering methodology, code snippets, and visualizations."
   ]
  },
  {
   "cell_type": "markdown",
   "id": "d0676a06",
   "metadata": {},
   "source": [
    "pip install dataprep"
   ]
  },
  {
   "cell_type": "code",
   "execution_count": null,
   "id": "90e79790",
   "metadata": {},
   "outputs": [],
   "source": [
    "conda install -c conda-forge dataprep"
   ]
  },
  {
   "cell_type": "code",
   "execution_count": 3,
   "id": "0bc34c8e",
   "metadata": {},
   "outputs": [],
   "source": [
    "import pandas as pd\n",
    "import openpyxl\n",
    "from openpyxl import load_workbook\n",
    "#from dataprep.eda import create_report\n",
    "import numpy as np\n",
    "from sklearn.cluster import KMeans, DBSCAN\n",
    "from sklearn.preprocessing import StandardScaler\n",
    "from sklearn.decomposition import PCA\n",
    "from sklearn.metrics import silhouette_score\n",
    "import matplotlib.pyplot as plt\n",
    "import seaborn as sns\n"
   ]
  },
  {
   "cell_type": "code",
   "execution_count": 1,
   "id": "ee21fc33",
   "metadata": {},
   "outputs": [
    {
     "name": "stdout",
     "output_type": "stream",
     "text": [
      "DataFrame for Year 2009-2010:\n",
      "  Invoice StockCode                          Description  Quantity  \\\n",
      "0  489434     85048  15CM CHRISTMAS GLASS BALL 20 LIGHTS        12   \n",
      "1  489434    79323P                   PINK CHERRY LIGHTS        12   \n",
      "2  489434    79323W                  WHITE CHERRY LIGHTS        12   \n",
      "3  489434     22041         RECORD FRAME 7\" SINGLE SIZE         48   \n",
      "4  489434     21232       STRAWBERRY CERAMIC TRINKET BOX        24   \n",
      "\n",
      "          InvoiceDate  Price  Customer ID         Country  \n",
      "0 2009-12-01 07:45:00   6.95      13085.0  United Kingdom  \n",
      "1 2009-12-01 07:45:00   6.75      13085.0  United Kingdom  \n",
      "2 2009-12-01 07:45:00   6.75      13085.0  United Kingdom  \n",
      "3 2009-12-01 07:45:00   2.10      13085.0  United Kingdom  \n",
      "4 2009-12-01 07:45:00   1.25      13085.0  United Kingdom  \n",
      "\n",
      "DataFrame for Year 2010-2011:\n",
      "  Invoice StockCode                          Description  Quantity  \\\n",
      "0  536365    85123A   WHITE HANGING HEART T-LIGHT HOLDER         6   \n",
      "1  536365     71053                  WHITE METAL LANTERN         6   \n",
      "2  536365    84406B       CREAM CUPID HEARTS COAT HANGER         8   \n",
      "3  536365    84029G  KNITTED UNION FLAG HOT WATER BOTTLE         6   \n",
      "4  536365    84029E       RED WOOLLY HOTTIE WHITE HEART.         6   \n",
      "\n",
      "          InvoiceDate  Price  Customer ID         Country  \n",
      "0 2010-12-01 08:26:00   2.55      17850.0  United Kingdom  \n",
      "1 2010-12-01 08:26:00   3.39      17850.0  United Kingdom  \n",
      "2 2010-12-01 08:26:00   2.75      17850.0  United Kingdom  \n",
      "3 2010-12-01 08:26:00   3.39      17850.0  United Kingdom  \n",
      "4 2010-12-01 08:26:00   3.39      17850.0  United Kingdom  \n"
     ]
    }
   ],
   "source": [
    "import pandas as pd\n",
    "\n",
    "# Path to your Excel file\n",
    "file_path = \"online_retail_II.xlsx\"\n",
    "\n",
    "# Load the workbook\n",
    "sheet_names = pd.ExcelFile(file_path).sheet_names  # Get all sheet names\n",
    "\n",
    "# Load sheets into DataFrames\n",
    "dfs = {sheet: pd.read_excel(file_path, sheet_name=sheet) for sheet in sheet_names}\n",
    "\n",
    "# Access each DataFrame by its sheet name\n",
    "df1 = dfs.get(\"Year 2009-2010\")  # Replace with actual sheet name\n",
    "df2 = dfs.get(\"Year 2010-2011\")  # Replace with actual sheet name\n",
    "\n",
    "# Display the first few rows of each DataFrame\n",
    "print(\"DataFrame for Year 2009-2010:\")\n",
    "print(df1.head())\n",
    "\n",
    "print(\"\\nDataFrame for Year 2010-2011:\")\n",
    "print(df2.head())\n"
   ]
  },
  {
   "cell_type": "code",
   "execution_count": 2,
   "id": "9cde0b8d",
   "metadata": {},
   "outputs": [
    {
     "name": "stdout",
     "output_type": "stream",
     "text": [
      "(525461, 8)\n"
     ]
    },
    {
     "data": {
      "text/html": [
       "<div>\n",
       "<style scoped>\n",
       "    .dataframe tbody tr th:only-of-type {\n",
       "        vertical-align: middle;\n",
       "    }\n",
       "\n",
       "    .dataframe tbody tr th {\n",
       "        vertical-align: top;\n",
       "    }\n",
       "\n",
       "    .dataframe thead th {\n",
       "        text-align: right;\n",
       "    }\n",
       "</style>\n",
       "<table border=\"1\" class=\"dataframe\">\n",
       "  <thead>\n",
       "    <tr style=\"text-align: right;\">\n",
       "      <th></th>\n",
       "      <th>Invoice</th>\n",
       "      <th>StockCode</th>\n",
       "      <th>Description</th>\n",
       "      <th>Quantity</th>\n",
       "      <th>InvoiceDate</th>\n",
       "      <th>Price</th>\n",
       "      <th>Customer ID</th>\n",
       "      <th>Country</th>\n",
       "    </tr>\n",
       "  </thead>\n",
       "  <tbody>\n",
       "    <tr>\n",
       "      <th>0</th>\n",
       "      <td>489434</td>\n",
       "      <td>85048</td>\n",
       "      <td>15CM CHRISTMAS GLASS BALL 20 LIGHTS</td>\n",
       "      <td>12</td>\n",
       "      <td>2009-12-01 07:45:00</td>\n",
       "      <td>6.95</td>\n",
       "      <td>13085.0</td>\n",
       "      <td>United Kingdom</td>\n",
       "    </tr>\n",
       "    <tr>\n",
       "      <th>1</th>\n",
       "      <td>489434</td>\n",
       "      <td>79323P</td>\n",
       "      <td>PINK CHERRY LIGHTS</td>\n",
       "      <td>12</td>\n",
       "      <td>2009-12-01 07:45:00</td>\n",
       "      <td>6.75</td>\n",
       "      <td>13085.0</td>\n",
       "      <td>United Kingdom</td>\n",
       "    </tr>\n",
       "    <tr>\n",
       "      <th>2</th>\n",
       "      <td>489434</td>\n",
       "      <td>79323W</td>\n",
       "      <td>WHITE CHERRY LIGHTS</td>\n",
       "      <td>12</td>\n",
       "      <td>2009-12-01 07:45:00</td>\n",
       "      <td>6.75</td>\n",
       "      <td>13085.0</td>\n",
       "      <td>United Kingdom</td>\n",
       "    </tr>\n",
       "  </tbody>\n",
       "</table>\n",
       "</div>"
      ],
      "text/plain": [
       "  Invoice StockCode                          Description  Quantity  \\\n",
       "0  489434     85048  15CM CHRISTMAS GLASS BALL 20 LIGHTS        12   \n",
       "1  489434    79323P                   PINK CHERRY LIGHTS        12   \n",
       "2  489434    79323W                  WHITE CHERRY LIGHTS        12   \n",
       "\n",
       "          InvoiceDate  Price  Customer ID         Country  \n",
       "0 2009-12-01 07:45:00   6.95      13085.0  United Kingdom  \n",
       "1 2009-12-01 07:45:00   6.75      13085.0  United Kingdom  \n",
       "2 2009-12-01 07:45:00   6.75      13085.0  United Kingdom  "
      ]
     },
     "execution_count": 2,
     "metadata": {},
     "output_type": "execute_result"
    }
   ],
   "source": [
    "print(df1.shape)\n",
    "df1.head(3)"
   ]
  },
  {
   "cell_type": "code",
   "execution_count": 4,
   "id": "07c81fe9",
   "metadata": {},
   "outputs": [],
   "source": [
    "# Combine datasets\n",
    "df = pd.concat([df1, df2])\n",
    "\n",
    "# Feature engineering\n",
    "df['Transaction Value'] = df['Quantity'] * df['Price']\n",
    "df['InvoiceDate'] = pd.to_datetime(df['InvoiceDate'])\n",
    "df['Month'] = df['InvoiceDate'].dt.month\n",
    "df['Day'] = df['InvoiceDate'].dt.day\n",
    "df['Hour'] = df['InvoiceDate'].dt.hour"
   ]
  },
  {
   "cell_type": "code",
   "execution_count": 5,
   "id": "11f3de26",
   "metadata": {},
   "outputs": [],
   "source": [
    "# Handle missing data (drop or fill)\n",
    "df = df.dropna(subset=['Quantity', 'Price', 'Customer ID'])"
   ]
  },
  {
   "cell_type": "code",
   "execution_count": 6,
   "id": "b6f6101c",
   "metadata": {},
   "outputs": [],
   "source": [
    "\n",
    "# Normalize features\n",
    "scaler = StandardScaler()\n",
    "df_scaled = scaler.fit_transform(df[['Quantity', 'Transaction Value', 'Price']])\n"
   ]
  },
  {
   "cell_type": "code",
   "execution_count": 7,
   "id": "8d03f8bb",
   "metadata": {},
   "outputs": [
    {
     "name": "stderr",
     "output_type": "stream",
     "text": [
      "C:\\Users\\abayugo01\\AppData\\Local\\anaconda3\\Lib\\site-packages\\sklearn\\cluster\\_kmeans.py:1412: FutureWarning: The default value of `n_init` will change from 10 to 'auto' in 1.4. Set the value of `n_init` explicitly to suppress the warning\n",
      "  super()._check_params_vs_input(X, default_n_init=10)\n"
     ]
    }
   ],
   "source": [
    "\n",
    "# Apply K-Means clustering\n",
    "kmeans = KMeans(n_clusters=5, random_state=42)\n",
    "df['Cluster'] = kmeans.fit_predict(df_scaled)\n"
   ]
  },
  {
   "cell_type": "code",
   "execution_count": null,
   "id": "a6a65806",
   "metadata": {},
   "outputs": [],
   "source": [
    "\n",
    "# Visualize clusters\n",
    "plt.scatter(df['Quantity'], df['Transaction Value'], c=df['Cluster'], cmap='viridis')\n",
    "plt.xlabel('Quantity')\n",
    "plt.ylabel('Transaction Value')\n",
    "plt.title('Customer Segments')\n",
    "plt.colorbar()\n",
    "plt.show()"
   ]
  },
  {
   "cell_type": "code",
   "execution_count": null,
   "id": "83f50d84",
   "metadata": {},
   "outputs": [],
   "source": []
  }
 ],
 "metadata": {
  "kernelspec": {
   "display_name": "Python 3 (ipykernel)",
   "language": "python",
   "name": "python3"
  },
  "language_info": {
   "codemirror_mode": {
    "name": "ipython",
    "version": 3
   },
   "file_extension": ".py",
   "mimetype": "text/x-python",
   "name": "python",
   "nbconvert_exporter": "python",
   "pygments_lexer": "ipython3",
   "version": "3.11.5"
  }
 },
 "nbformat": 4,
 "nbformat_minor": 5
}
