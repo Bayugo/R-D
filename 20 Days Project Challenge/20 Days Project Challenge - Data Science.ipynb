{
 "cells": [
  {
   "cell_type": "markdown",
   "id": "74f5dfbf",
   "metadata": {},
   "source": [
    "# Unlocking Insights from Retail Data\n",
    "Retail businesses generate vast amounts of data daily, and within this data lies the key to understanding customer behavior, optimizing operations, and driving revenue growth. For this exercise, we will explore a dataset containing retail transaction data spanning two time periods: 2009-2010 and 2010-2011.\n",
    "\n",
    "## This dataset includes information such as:\n",
    "•⁠ ⁠Invoice Number: A unique identifier for each transaction.\n",
    "\n",
    "•⁠ ⁠Stock Code: Unique codes for each product sold.\n",
    "\n",
    "•⁠ ⁠Description: Detailed information about the products.\n",
    "\n",
    "•⁠ ⁠Quantity: The number of items purchased in each transaction.\n",
    "\n",
    "•⁠ ⁠Invoice Date: The date and time of the transaction.\n",
    "\n",
    "•⁠ ⁠Unit Price: Price per unit of each product.\n",
    "\n",
    "•⁠ ⁠Customer ID: An anonymized identifier for each customer.\n",
    "\n",
    "•⁠ ⁠Country: The country where the transaction took place.\n",
    "\n",
    "## Task Instructions for Mentees\n",
    "\n",
    "Your task is to perform a clustering analysis on this dataset to group customers or transactions into meaningful segments. Considerations:\n",
    "\n",
    "•⁠ ⁠Use features every possible feature to cluster customers based on purchasing patterns.\n",
    "\n",
    "•⁠ ⁠Explore clustering algorithms such as K-Means, DBSCAN, or Hierarchical Clustering.\n",
    "\n",
    "•⁠ ⁠Visualize the clusters and interpret the results to understand customer behavior.\n",
    "\n",
    "## Submission Guidelines\n",
    "Submit your findings and insights to info@oaorogun.co.uk. Be sure to include:\n",
    "\n",
    "•⁠ ⁠For data analysts: A comprehensive report with charts and insights.\n",
    "\n",
    "•⁠ ⁠For data scientists: A detailed explanation of your clustering methodology, code snippets, and visualizations."
   ]
  },
  {
   "cell_type": "code",
   "execution_count": 6,
   "id": "57af8e09",
   "metadata": {},
   "outputs": [
    {
     "ename": "ModuleNotFoundError",
     "evalue": "No module named 'dataprep'",
     "output_type": "error",
     "traceback": [
      "\u001b[1;31m---------------------------------------------------------------------------\u001b[0m",
      "\u001b[1;31mModuleNotFoundError\u001b[0m                       Traceback (most recent call last)",
      "Cell \u001b[1;32mIn[6], line 4\u001b[0m\n\u001b[0;32m      2\u001b[0m \u001b[38;5;28;01mimport\u001b[39;00m \u001b[38;5;21;01mopenpyxl\u001b[39;00m\n\u001b[0;32m      3\u001b[0m \u001b[38;5;28;01mfrom\u001b[39;00m \u001b[38;5;21;01mopenpyxl\u001b[39;00m \u001b[38;5;28;01mimport\u001b[39;00m load_workbook\n\u001b[1;32m----> 4\u001b[0m \u001b[38;5;28;01mfrom\u001b[39;00m \u001b[38;5;21;01mdataprep\u001b[39;00m\u001b[38;5;21;01m.\u001b[39;00m\u001b[38;5;21;01meda\u001b[39;00m \u001b[38;5;28;01mimport\u001b[39;00m create_report\n",
      "\u001b[1;31mModuleNotFoundError\u001b[0m: No module named 'dataprep'"
     ]
    }
   ],
   "source": [
    "import pandas as pd\n",
    "import openpyxl\n",
    "from openpyxl import load_workbook\n",
    "from dataprep.eda import create_report\n"
   ]
  },
  {
   "cell_type": "code",
   "execution_count": 1,
   "id": "2a10a8fa",
   "metadata": {},
   "outputs": [
    {
     "name": "stdout",
     "output_type": "stream",
     "text": [
      "Sheet: Year 2009-2010\n",
      "  Invoice StockCode                          Description  Quantity  \\\n",
      "0  489434     85048  15CM CHRISTMAS GLASS BALL 20 LIGHTS        12   \n",
      "1  489434    79323P                   PINK CHERRY LIGHTS        12   \n",
      "2  489434    79323W                  WHITE CHERRY LIGHTS        12   \n",
      "3  489434     22041         RECORD FRAME 7\" SINGLE SIZE         48   \n",
      "4  489434     21232       STRAWBERRY CERAMIC TRINKET BOX        24   \n",
      "\n",
      "          InvoiceDate  Price  Customer ID         Country  \n",
      "0 2009-12-01 07:45:00   6.95      13085.0  United Kingdom  \n",
      "1 2009-12-01 07:45:00   6.75      13085.0  United Kingdom  \n",
      "2 2009-12-01 07:45:00   6.75      13085.0  United Kingdom  \n",
      "3 2009-12-01 07:45:00   2.10      13085.0  United Kingdom  \n",
      "4 2009-12-01 07:45:00   1.25      13085.0  United Kingdom  \n",
      "Sheet: Year 2010-2011\n",
      "  Invoice StockCode                          Description  Quantity  \\\n",
      "0  536365    85123A   WHITE HANGING HEART T-LIGHT HOLDER         6   \n",
      "1  536365     71053                  WHITE METAL LANTERN         6   \n",
      "2  536365    84406B       CREAM CUPID HEARTS COAT HANGER         8   \n",
      "3  536365    84029G  KNITTED UNION FLAG HOT WATER BOTTLE         6   \n",
      "4  536365    84029E       RED WOOLLY HOTTIE WHITE HEART.         6   \n",
      "\n",
      "          InvoiceDate  Price  Customer ID         Country  \n",
      "0 2010-12-01 08:26:00   2.55      17850.0  United Kingdom  \n",
      "1 2010-12-01 08:26:00   3.39      17850.0  United Kingdom  \n",
      "2 2010-12-01 08:26:00   2.75      17850.0  United Kingdom  \n",
      "3 2010-12-01 08:26:00   3.39      17850.0  United Kingdom  \n",
      "4 2010-12-01 08:26:00   3.39      17850.0  United Kingdom  \n"
     ]
    }
   ],
   "source": [
    "import pandas as pd\n",
    "\n",
    "# Path to your Excel file\n",
    "file_path = \"online_retail_II.xlsx\"\n",
    "\n",
    "# Load the workbook\n",
    "# Specify the sheet name or use sheet_name=None to load all sheets into a dictionary\n",
    "df = pd.read_excel(file_path, sheet_name=None)  # Load all sheets\n",
    "\n",
    "# Display the data from the first sheet\n",
    "for sheet_name, sheet_data in df.items():\n",
    "    print(f\"Sheet: {sheet_name}\")\n",
    "    print(sheet_data.head())  # Print first few rows\n"
   ]
  },
  {
   "cell_type": "code",
   "execution_count": 2,
   "id": "f1d06e7c",
   "metadata": {},
   "outputs": [
    {
     "name": "stdout",
     "output_type": "stream",
     "text": [
      "Sheet names in the workbook:\n",
      "['Year 2009-2010', 'Year 2010-2011']\n"
     ]
    }
   ],
   "source": [
    "excel_file = pd.ExcelFile(file_path)\n",
    "\n",
    "# Get the sheet names\n",
    "sheet_names = excel_file.sheet_names\n",
    "\n",
    "# Print the sheet names\n",
    "print(\"Sheet names in the workbook:\")\n",
    "print(sheet_names)"
   ]
  },
  {
   "cell_type": "code",
   "execution_count": 4,
   "id": "3b9ec291",
   "metadata": {},
   "outputs": [
    {
     "name": "stdout",
     "output_type": "stream",
     "text": [
      "Sheets renamed successfully!\n"
     ]
    }
   ],
   "source": [
    "# Path to dataset\n",
    "file_path = \"online_retail_II.xlsx\"\n",
    "\n",
    "# Lets load the workbook\n",
    "workbook = load_workbook(file_path)\n",
    "\n",
    "# Renaming the individual excel sheets\n",
    "sheet_mapping = {\n",
    "    \"Year 2009-2010\": \"df1\",\n",
    "    \"Year 2010-2011\": \"df2\",\n",
    "}\n",
    "\n",
    "for old_name, new_name in sheet_mapping.items():\n",
    "    if old_name in workbook.sheetnames:\n",
    "        workbook[old_name].title = new_name\n",
    "\n",
    "# Save the workbook\n",
    "#workbook.save(file_path)\n",
    "\n",
    "print(\"Sheets renamed successfully!\")\n"
   ]
  },
  {
   "cell_type": "code",
   "execution_count": 5,
   "id": "40b70ea7",
   "metadata": {},
   "outputs": [
    {
     "ename": "NameError",
     "evalue": "name 'df1' is not defined",
     "output_type": "error",
     "traceback": [
      "\u001b[1;31m---------------------------------------------------------------------------\u001b[0m",
      "\u001b[1;31mNameError\u001b[0m                                 Traceback (most recent call last)",
      "Cell \u001b[1;32mIn[5], line 1\u001b[0m\n\u001b[1;32m----> 1\u001b[0m df1\u001b[38;5;241m.\u001b[39mshape\n",
      "\u001b[1;31mNameError\u001b[0m: name 'df1' is not defined"
     ]
    }
   ],
   "source": [
    "df1.shape"
   ]
  },
  {
   "cell_type": "code",
   "execution_count": null,
   "id": "ee5837d7",
   "metadata": {},
   "outputs": [],
   "source": []
  }
 ],
 "metadata": {
  "kernelspec": {
   "display_name": "Python 3 (ipykernel)",
   "language": "python",
   "name": "python3"
  },
  "language_info": {
   "codemirror_mode": {
    "name": "ipython",
    "version": 3
   },
   "file_extension": ".py",
   "mimetype": "text/x-python",
   "name": "python",
   "nbconvert_exporter": "python",
   "pygments_lexer": "ipython3",
   "version": "3.11.5"
  }
 },
 "nbformat": 4,
 "nbformat_minor": 5
}
