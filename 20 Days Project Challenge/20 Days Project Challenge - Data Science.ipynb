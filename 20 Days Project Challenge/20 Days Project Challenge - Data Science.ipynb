{
 "cells": [
  {
   "cell_type": "markdown",
   "id": "55a212f3",
   "metadata": {},
   "source": [
    "# Unlocking Insights from Retail Data\n",
    "Retail businesses generate vast amounts of data daily, and within this data lies the key to understanding customer behavior, optimizing operations, and driving revenue growth. For this exercise, we will explore a dataset containing retail transaction data spanning two time periods: 2009-2010 and 2010-2011.\n",
    "\n",
    "## This dataset includes information such as:\n",
    "•⁠ ⁠Invoice Number: A unique identifier for each transaction.\n",
    "\n",
    "•⁠ ⁠Stock Code: Unique codes for each product sold.\n",
    "\n",
    "•⁠ ⁠Description: Detailed information about the products.\n",
    "\n",
    "•⁠ ⁠Quantity: The number of items purchased in each transaction.\n",
    "\n",
    "•⁠ ⁠Invoice Date: The date and time of the transaction.\n",
    "\n",
    "•⁠ ⁠Unit Price: Price per unit of each product.\n",
    "\n",
    "•⁠ ⁠Customer ID: An anonymized identifier for each customer.\n",
    "\n",
    "•⁠ ⁠Country: The country where the transaction took place.\n",
    "\n",
    "## Task Instructions for Mentees\n",
    "\n",
    "Your task is to perform a clustering analysis on this dataset to group customers or transactions into meaningful segments. Considerations:\n",
    "\n",
    "•⁠ ⁠Use features every possible feature to cluster customers based on purchasing patterns.\n",
    "\n",
    "•⁠ ⁠Explore clustering algorithms such as K-Means, DBSCAN, or Hierarchical Clustering.\n",
    "\n",
    "•⁠ ⁠Visualize the clusters and interpret the results to understand customer behavior.\n",
    "\n",
    "## Submission Guidelines\n",
    "Submit your findings and insights to info@oaorogun.co.uk. Be sure to include:\n",
    "\n",
    "•⁠ ⁠For data analysts: A comprehensive report with charts and insights.\n",
    "\n",
    "•⁠ ⁠For data scientists: A detailed explanation of your clustering methodology, code snippets, and visualizations."
   ]
  },
  {
   "cell_type": "code",
   "execution_count": 1,
   "id": "d7ac21d9",
   "metadata": {},
   "outputs": [],
   "source": [
    "import pandas as pd\n",
    "import openpyxl\n",
    "from openpyxl import load_workbook\n",
    "#from dataprep.eda import create_report\n",
    "import numpy as np\n",
    "from sklearn.cluster import KMeans, DBSCAN\n",
    "from sklearn.preprocessing import StandardScaler\n",
    "from sklearn.decomposition import PCA\n",
    "from sklearn.metrics import silhouette_score\n",
    "import matplotlib.pyplot as plt\n",
    "import seaborn as sns\n"
   ]
  },
  {
   "cell_type": "code",
   "execution_count": null,
   "id": "1e0f2b5f",
   "metadata": {},
   "outputs": [],
   "source": [
    "import pandas as pd\n",
    "\n",
    "# Path to your Excel file\n",
    "file_path = \"online_retail_II.xlsx\"\n",
    "\n",
    "# Load the workbook\n",
    "# Specify the sheet name or use sheet_name=None to load all sheets into a dictionary\n",
    "df = pd.read_excel(file_path, sheet_name=None)  # Load all sheets\n",
    "\n",
    "# Display the data from the first sheet\n",
    "for sheet_name, sheet_data in df.items():\n",
    "    print(f\"Sheet: {sheet_name}\")\n",
    "    print(sheet_data.head())  # Print first few rows\n"
   ]
  },
  {
   "cell_type": "code",
   "execution_count": null,
   "id": "ceb31201",
   "metadata": {},
   "outputs": [],
   "source": [
    "excel_file = pd.ExcelFile(file_path)\n",
    "\n",
    "# Get the sheet names\n",
    "sheet_names = excel_file.sheet_names\n",
    "\n",
    "# Print the sheet names\n",
    "print(\"Sheet names in the workbook:\")\n",
    "print(sheet_names)"
   ]
  },
  {
   "cell_type": "code",
   "execution_count": null,
   "id": "1473e776",
   "metadata": {},
   "outputs": [],
   "source": [
    "# Path to dataset\n",
    "file_path = \"online_retail_II.xlsx\"\n",
    "\n",
    "# Lets load the workbook\n",
    "workbook = load_workbook(file_path)\n",
    "\n",
    "# Renaming the individual excel sheets\n",
    "sheet_mapping = {\n",
    "    \"Year 2009-2010\": \"df1\",\n",
    "    \"Year 2010-2011\": \"df2\",\n",
    "}\n",
    "\n",
    "for old_name, new_name in sheet_mapping.items():\n",
    "    if old_name in workbook.sheetnames:\n",
    "        workbook[old_name].title = new_name\n",
    "\n",
    "# Save the workbook\n",
    "#workbook.save(file_path)\n",
    "\n",
    "print(\"Sheets renamed successfully!\")\n"
   ]
  },
  {
   "cell_type": "code",
   "execution_count": null,
   "id": "e08a2201",
   "metadata": {},
   "outputs": [],
   "source": [
    "df1.shape"
   ]
  },
  {
   "cell_type": "code",
   "execution_count": null,
   "id": "70111d86",
   "metadata": {},
   "outputs": [],
   "source": []
  }
 ],
 "metadata": {
  "kernelspec": {
   "display_name": "Python 3 (ipykernel)",
   "language": "python",
   "name": "python3"
  },
  "language_info": {
   "codemirror_mode": {
    "name": "ipython",
    "version": 3
   },
   "file_extension": ".py",
   "mimetype": "text/x-python",
   "name": "python",
   "nbconvert_exporter": "python",
   "pygments_lexer": "ipython3",
   "version": "3.11.5"
  }
 },
 "nbformat": 4,
 "nbformat_minor": 5
}
