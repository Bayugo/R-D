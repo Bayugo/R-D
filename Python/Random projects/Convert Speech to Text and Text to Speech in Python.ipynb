{
 "cells": [
  {
   "cell_type": "code",
   "execution_count": 7,
   "id": "4f370a5f",
   "metadata": {},
   "outputs": [],
   "source": [
    "from tkinter import *\n",
    "from tkinter.messagebox import showinfo\n",
    "from gtts import gTTS\n",
    "import speech_recognition as sr\n",
    "import os"
   ]
  },
  {
   "cell_type": "markdown",
   "id": "f63b4635",
   "metadata": {},
   "source": [
    "## Initializing main window:\n",
    "    a. Tk(): Every component of tkinter applications can easily be accessed with The help of tk.\n",
    "    b. title(): It sets the title of the window\n",
    "    c. geometry(): It helps to set the geometry of the window.\n",
    "    d. resizable(): It helps to change the size of the tkinter window as per the requirement of a user.\n"
   ]
  },
  {
   "cell_type": "code",
   "execution_count": 14,
   "id": "c38c31cd",
   "metadata": {},
   "outputs": [],
   "source": [
    "mainwindow= Tk()\n",
    "mainwindow.title('DataFlair Text-To-Speech and Speech-To-Text Converter')\n",
    "mainwindow.geometry('500x500')\n",
    "mainwindow.resizable(0, 0)\n",
    "mainwindow.configure(bg='yellow')"
   ]
  },
  {
   "cell_type": "code",
   "execution_count": null,
   "id": "967342f7",
   "metadata": {},
   "outputs": [],
   "source": []
  },
  {
   "cell_type": "markdown",
   "id": "6cb90f3b",
   "metadata": {},
   "source": [
    "## Backend of speak and recordvoice function\n",
    "    a. Recognizer(): The main purpose of this instance is to recognize the voice.\n",
    "    b. Microphone(): It uses the default microphone as the audio source.\n",
    "    c. listen(): It listens to the phrase that is spoken and extracts into audio data."
   ]
  },
  {
   "cell_type": "code",
   "execution_count": 15,
   "id": "4491d33c",
   "metadata": {},
   "outputs": [],
   "source": [
    "def say(text1):\n",
    "     language = 'en'\n",
    "     speech = gTTS(text = text1, lang = language, slow = False)\n",
    "     speech.save(\"text.mp3\")\n",
    "     os.system(\"start text.mp3\")\n",
    " \n",
    "def recordvoice():\n",
    "    while True:\n",
    "        r = sr.Recognizer()\n",
    "        with sr.Microphone() as source:\n",
    "            audio=r.listen(source)\n",
    "            try:    \n",
    "                text1 = r.recognize_google(audio,language=\"en-IN\")\n",
    "            except:\n",
    "                pass\n",
    "            return text1"
   ]
  },
  {
   "cell_type": "markdown",
   "id": "fef769ab-475f-4ce3-a025-32b7edbcf29d",
   "metadata": {},
   "source": [
    "Code Explanation:\n",
    "    a. TextToSpeech(): This is the main function for converting text to speech.\n",
    "    b. Label(): Display boxes are displayed on the screen where you can place the text.\n",
    "    c. Button(): It adds a button on the tkinter window.\n",
    "    d. SpeechToText(): This is the main function for converting speech to text.\n",
    "    e. mainwindow.mainloop(): It helps in running our program."
   ]
  },
  {
   "cell_type": "code",
   "execution_count": 17,
   "id": "bd7136f3",
   "metadata": {},
   "outputs": [
    {
     "name": "stderr",
     "output_type": "stream",
     "text": [
      "Exception in Tkinter callback\n",
      "Traceback (most recent call last):\n",
      "  File \"C:\\Users\\abayugo01\\AppData\\Local\\anaconda3\\Lib\\site-packages\\speech_recognition\\__init__.py\", line 108, in get_pyaudio\n",
      "    import pyaudio\n",
      "ModuleNotFoundError: No module named 'pyaudio'\n",
      "\n",
      "During handling of the above exception, another exception occurred:\n",
      "\n",
      "Traceback (most recent call last):\n",
      "  File \"C:\\Users\\abayugo01\\AppData\\Local\\anaconda3\\Lib\\tkinter\\__init__.py\", line 1948, in __call__\n",
      "    return self.func(*args)\n",
      "           ^^^^^^^^^^^^^^^^\n",
      "  File \"C:\\Users\\abayugo01\\AppData\\Local\\Temp\\ipykernel_22020\\4112925079.py\", line 26, in <lambda>\n",
      "    recordbutton = Button(speechtotextwindow, text='Record', bg='Sienna', command=lambda: text.insert(END, recordvoice()))\n",
      "                                                                                                           ^^^^^^^^^^^^^\n",
      "  File \"C:\\Users\\abayugo01\\AppData\\Local\\Temp\\ipykernel_22020\\2895071326.py\", line 10, in recordvoice\n",
      "    with sr.Microphone() as source:\n",
      "         ^^^^^^^^^^^^^^^\n",
      "  File \"C:\\Users\\abayugo01\\AppData\\Local\\anaconda3\\Lib\\site-packages\\speech_recognition\\__init__.py\", line 80, in __init__\n",
      "    self.pyaudio_module = self.get_pyaudio()\n",
      "                          ^^^^^^^^^^^^^^^^^^\n",
      "  File \"C:\\Users\\abayugo01\\AppData\\Local\\anaconda3\\Lib\\site-packages\\speech_recognition\\__init__.py\", line 110, in get_pyaudio\n",
      "    raise AttributeError(\"Could not find PyAudio; check installation\")\n",
      "AttributeError: Could not find PyAudio; check installation\n",
      "Exception in Tkinter callback\n",
      "Traceback (most recent call last):\n",
      "  File \"C:\\Users\\abayugo01\\AppData\\Local\\anaconda3\\Lib\\site-packages\\speech_recognition\\__init__.py\", line 108, in get_pyaudio\n",
      "    import pyaudio\n",
      "ModuleNotFoundError: No module named 'pyaudio'\n",
      "\n",
      "During handling of the above exception, another exception occurred:\n",
      "\n",
      "Traceback (most recent call last):\n",
      "  File \"C:\\Users\\abayugo01\\AppData\\Local\\anaconda3\\Lib\\tkinter\\__init__.py\", line 1948, in __call__\n",
      "    return self.func(*args)\n",
      "           ^^^^^^^^^^^^^^^^\n",
      "  File \"C:\\Users\\abayugo01\\AppData\\Local\\Temp\\ipykernel_22020\\4112925079.py\", line 26, in <lambda>\n",
      "    recordbutton = Button(speechtotextwindow, text='Record', bg='Sienna', command=lambda: text.insert(END, recordvoice()))\n",
      "                                                                                                           ^^^^^^^^^^^^^\n",
      "  File \"C:\\Users\\abayugo01\\AppData\\Local\\Temp\\ipykernel_22020\\2895071326.py\", line 10, in recordvoice\n",
      "    with sr.Microphone() as source:\n",
      "         ^^^^^^^^^^^^^^^\n",
      "  File \"C:\\Users\\abayugo01\\AppData\\Local\\anaconda3\\Lib\\site-packages\\speech_recognition\\__init__.py\", line 80, in __init__\n",
      "    self.pyaudio_module = self.get_pyaudio()\n",
      "                          ^^^^^^^^^^^^^^^^^^\n",
      "  File \"C:\\Users\\abayugo01\\AppData\\Local\\anaconda3\\Lib\\site-packages\\speech_recognition\\__init__.py\", line 110, in get_pyaudio\n",
      "    raise AttributeError(\"Could not find PyAudio; check installation\")\n",
      "AttributeError: Could not find PyAudio; check installation\n"
     ]
    }
   ],
   "source": [
    "\n",
    "def TextToSpeech():\n",
    "    texttospeechwindow = Toplevel(mainwindow)\n",
    "    texttospeechwindow.title('Text-to-Speech Converter by DataFlair')\n",
    "    texttospeechwindow.geometry(\"500x500\")\n",
    "    texttospeechwindow.configure(bg='Blue')\n",
    " \n",
    "    Label(texttospeechwindow, text='Text-to-Speech Converter by DataFlair', font=(\"Times New Roman\", 15), bg='Blue').place(x=50)\n",
    " \n",
    "    text = Text(texttospeechwindow, height=5, width=30, font=12)\n",
    "    text.place(x=7, y=60)\n",
    "   \n",
    "    speakbutton = Button(texttospeechwindow, text='listen', bg='coral', command=lambda: say(str(text.get(1.0, END))))\n",
    "    speakbutton.place(x=140, y=200)\n",
    " \n",
    "def SpeechToText():\n",
    "    speechtotextwindow = Toplevel(mainwindow)\n",
    "    speechtotextwindow.title('Speech-to-Text Converter by DataFlair')\n",
    "    speechtotextwindow.geometry(\"500x500\")\n",
    "    speechtotextwindow.configure(bg='pink')\n",
    " \n",
    "    Label(speechtotextwindow, text='Speech-to-Text Converter by DataFlair', font=(\"Comic Sans MS\", 15), bg='IndianRed').place(x=50)\n",
    " \n",
    "    text = Text(speechtotextwindow, font=12, height=3, width=30)\n",
    "    text.place(x=7, y=100)\n",
    "   \n",
    "    recordbutton = Button(speechtotextwindow, text='Record', bg='Sienna', command=lambda: text.insert(END, recordvoice()))\n",
    "    recordbutton.place(x=140, y=50)\n",
    " \n",
    "Label(mainwindow, text='DataFlair Text-To-Speech and Speech-To-Text Converter',\n",
    "     font=('Times New Roman', 16), bg='red', wrap=True, wraplength=450).place(x=25, y=0)\n",
    " \n",
    "texttospeechbutton = Button(mainwindow, text='Text-To-Speech Conversion', font=('Times New Roman', 16), bg='Purple', command=TextToSpeech)\n",
    "texttospeechbutton.place(x=100, y=150)\n",
    " \n",
    "speechtotextbutton = Button(mainwindow, text='Speech-To-Text Conversion', font=('Times New Roman', 16), bg='Purple', command=SpeechToText)\n",
    "speechtotextbutton.place(x=100, y=250)\n",
    " \n",
    "mainwindow.update()\n",
    "mainwindow.mainloop()"
   ]
  },
  {
   "cell_type": "code",
   "execution_count": null,
   "id": "5c74dc92",
   "metadata": {},
   "outputs": [],
   "source": []
  }
 ],
 "metadata": {
  "kernelspec": {
   "display_name": "Python 3 (ipykernel)",
   "language": "python",
   "name": "python3"
  },
  "language_info": {
   "codemirror_mode": {
    "name": "ipython",
    "version": 3
   },
   "file_extension": ".py",
   "mimetype": "text/x-python",
   "name": "python",
   "nbconvert_exporter": "python",
   "pygments_lexer": "ipython3",
   "version": "3.11.7"
  }
 },
 "nbformat": 4,
 "nbformat_minor": 5
}
