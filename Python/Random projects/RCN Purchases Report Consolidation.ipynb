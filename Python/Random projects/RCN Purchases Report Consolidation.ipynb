{
 "cells": [
  {
   "cell_type": "markdown",
   "id": "d7282ec7-9df8-4319-a3fa-45fe9f1f8e48",
   "metadata": {},
   "source": [
    "### Task: Load workbook and display sheet names\n",
    " Description: This code loads an Excel workbook  using pandas and displays all the sheet names."
   ]
  },
  {
   "cell_type": "code",
   "execution_count": 1,
   "id": "494335df-139f-4141-84f8-446fe5861e29",
   "metadata": {},
   "outputs": [],
   "source": [
    "#Import Libraries\n",
    "import pandas as pd"
   ]
  },
  {
   "cell_type": "code",
   "execution_count": 2,
   "id": "547f7a35-bc19-418c-b94f-eb4efdb59404",
   "metadata": {},
   "outputs": [
    {
     "name": "stdout",
     "output_type": "stream",
     "text": [
      "['SUMMARY', '2025-QUALITY REP', 'FUNDING', 'SAMPA-PURCHASES', 'SAMPA-DRYING', 'SAMPA-DISPATCHES ', 'SAMPA W.H', 'NKRANKWANTA-PURCHASES', 'NKRANKWANTA-DRYING', 'NKRANKWANTA-DISPATCHES', 'NKRANKWANTA W.H', 'DROBO-PURCHASES', 'DROBO-DRYING', 'DROBO-DISPATCHES', 'DROBO W.H', 'WENCHI-PURCHASES', 'WENCHI-DRYING', 'WENCHI-DISPATCHES', 'WENCHI W.H', 'TECHIMAN-PURCHASES', 'TECHIMAN-DRYING', 'TECHIMAN-DISPATCHES', 'TECHIMAN W.H', 'SAWLA-PURCHASES', 'SAWLA-DRYING', 'SAWLA-DISPATCHES', 'SAWLA W.H ', 'LUC DISP', 'EX-TEMA', 'TOTALS', 'BL & CTNR-WISE REPORTCASHEW', 'Comparisons']\n"
     ]
    }
   ],
   "source": [
    "# Loading workbook\n",
    "xls = pd.ExcelFile('GHANA ORIGIN REP.xlsx')\n",
    "# Display all sheet names\n",
    "print(xls.sheet_names)"
   ]
  },
  {
   "cell_type": "code",
   "execution_count": 3,
   "id": "31532744-9710-4ad6-9af0-7cbddfc041c1",
   "metadata": {},
   "outputs": [],
   "source": [
    "# ========================================\n",
    "# Project: Workbook Processing\n",
    "# Task: Select all Purchases sheets using pandas\n",
    "# Description: This code selects all sheets related to \"Purchases\"\n",
    "# from the loaded workbook using pandas and stores them in a dictionary.\n",
    "# ========================================\n"
   ]
  },
  {
   "cell_type": "code",
   "execution_count": 4,
   "id": "a9abfb8e-7ac0-4b32-8ee9-161f251ba743",
   "metadata": {},
   "outputs": [
    {
     "name": "stdout",
     "output_type": "stream",
     "text": [
      "Selected Purchases Sheets:\n",
      "SAMPA-PURCHASES\n",
      "NKRANKWANTA-PURCHASES\n",
      "DROBO-PURCHASES\n",
      "WENCHI-PURCHASES\n",
      "TECHIMAN-PURCHASES\n",
      "SAWLA-PURCHASES\n"
     ]
    }
   ],
   "source": [
    "# Load the workbook\n",
    "xls = pd.ExcelFile('GHANA ORIGIN REP.xlsx')\n",
    "\n",
    "# List of all sheets related to \"Purchases\"\n",
    "purchases_sheets = [\n",
    "    'SAMPA-PURCHASES',\n",
    "    'NKRANKWANTA-PURCHASES',\n",
    "    'DROBO-PURCHASES',\n",
    "    'WENCHI-PURCHASES',\n",
    "    'TECHIMAN-PURCHASES',\n",
    "    'SAWLA-PURCHASES'\n",
    "]\n",
    "\n",
    "# Selecting the sheets using pandas\n",
    "selected_sheets = {sheet: pd.read_excel(xls, sheet) for sheet in purchases_sheets}\n",
    "\n",
    "# Display the names of the selected sheets\n",
    "print(\"Selected Purchases Sheets:\")\n",
    "for sheet_name in selected_sheets:\n",
    "    print(sheet_name)\n"
   ]
  },
  {
   "cell_type": "markdown",
   "id": "1bc47c16-3c54-4510-9ab0-4ab1d7ed8f90",
   "metadata": {},
   "source": [
    "### Task: Process Purchases sheets into separate DataFrames with specified columns\n",
    "Description: This code processes each \"Purchases\" sheet by skipping the first row, adding a new \"Station\" column with the sheet name (excluding \"Purchases\"), and storing the data in separate DataFrames with only the specified columns.\n"
   ]
  },
  {
   "cell_type": "code",
   "execution_count": 5,
   "id": "1c2ce5f9-3a23-4749-b661-c63737cb078a",
   "metadata": {},
   "outputs": [],
   "source": [
    "# List of columns to keep\n",
    "columns_to_keep = [\n",
    "    'Date', 'Name', 'Grn #', 'KOR', 'Moisture %', '# of Bags', 'Cum bags',\n",
    "    'wgt/bag', 'Net wgt', 'Cum wgt', 'Rate', 'Value', 'Cum value',\n",
    "    'Cheque No.', 'Receipt No.', 'Funding', 'SAP PO ID', 'Tra/Org', 'Wk',\n",
    "    'Month'\n",
    "]\n",
    "\n",
    "\n",
    "# Load the workbook\n",
    "xls = pd.ExcelFile('GHANA ORIGIN REP.xlsx')\n",
    "\n",
    "# List of all sheets related to \"Purchases\"\n",
    "purchases_sheets = [\n",
    "    'SAMPA-PURCHASES',\n",
    "    'NKRANKWANTA-PURCHASES',\n",
    "    'DROBO-PURCHASES',\n",
    "    'WENCHI-PURCHASES',\n",
    "    'TECHIMAN-PURCHASES',\n",
    "    'SAWLA-PURCHASES'\n",
    "]\n",
    "\n",
    "# Process each sheet\n",
    "for sheet in purchases_sheets:\n",
    "    # Load the sheet into a DataFrame, skipping the first row\n",
    "    df = pd.read_excel(xls, sheet_name=sheet, header=1)\n",
    "    \n",
    "    # Handle column name variations (e.g., 'Tra/Organic' instead of 'Tra/Org')\n",
    "    df.columns = df.columns.str.replace('Trc/Organic', 'Tra/Org', regex=False)\n",
    "    \n",
    "    # Filter columns that exist in the DataFrame\n",
    "    existing_columns = [col for col in columns_to_keep if col in df.columns]\n",
    "    df = df[existing_columns]\n",
    "    \n",
    "    # Dynamically create a DataFrame variable for each sheet\n",
    "    globals()[f'{sheet.replace(\"-PURCHASES\", \"\").lower()}_df'] = df\n",
    "\n",
    "    # Display the first few rows to verify\n",
    "    #print(f\"Processed {sheet} (First 5 rows):\")\n",
    "    #print(df.head(), \"\\n\")"
   ]
  },
  {
   "cell_type": "markdown",
   "id": "27fb593d-174a-48cf-94be-2e67bc16fdd6",
   "metadata": {},
   "source": [
    "### Organic / Traceability column for Sawla and "
   ]
  },
  {
   "cell_type": "code",
   "execution_count": 6,
   "id": "f06937fa-3798-47c2-ba30-911105ffb45f",
   "metadata": {},
   "outputs": [
    {
     "name": "stdout",
     "output_type": "stream",
     "text": [
      "['sampa_df', 'nkrankwanta_df', 'drobo_df', 'wenchi_df', 'techiman_df', 'sawla_df']\n"
     ]
    },
    {
     "data": {
      "text/plain": [
       "Index(['Date', 'Name', 'Grn #', 'KOR', 'Moisture %', '# of Bags', 'Cum bags',\n",
       "       'wgt/bag', 'Net wgt', 'Cum wgt', 'Rate', 'Value', 'Cum value',\n",
       "       'Cheque No.', 'Receipt No.', 'Funding', 'SAP PO ID', 'Tra/Org', 'Wk',\n",
       "       'Month'],\n",
       "      dtype='object')"
      ]
     },
     "execution_count": 6,
     "metadata": {},
     "output_type": "execute_result"
    }
   ],
   "source": [
    "sawla_df['Tra/Org'] = None  # Or set a specific value if needed\n",
    "# List the newly created DataFrames\n",
    "new_dfs = [var for var in globals() if var.endswith('_df')]\n",
    "print(new_dfs)\n",
    "techiman_df.columns"
   ]
  },
  {
   "cell_type": "markdown",
   "id": "a352225c-78de-4095-b4af-8240cea40755",
   "metadata": {},
   "source": [
    "### Remove N/As"
   ]
  },
  {
   "cell_type": "code",
   "execution_count": 7,
   "id": "d11ff221-debb-4b5d-b263-77aa6668c6f8",
   "metadata": {},
   "outputs": [],
   "source": [
    "# List of all DataFrames (already created)\n",
    "dfs = ['sampa_df', 'nkrankwanta_df', 'drobo_df', 'wenchi_df', 'techiman_df', 'sawla_df']\n",
    "\n",
    "# Date columns to check for NaN (you can modify this list based on your actual columns)\n",
    "date_columns = ['Date', 'Month']\n",
    "\n",
    "# Loop through each DataFrame and remove rows where any of the date columns have NaN values\n",
    "for df_name in dfs:\n",
    "    df = globals().get(df_name)\n",
    "    \n",
    "    if df is not None:\n",
    "        # Remove rows with NaN in any of the date columns\n",
    "        df.dropna(subset=date_columns, how='any', inplace=True)\n",
    "        \n",
    "        # Display the first few rows to verify\n",
    "        #print(f\"Updated {df_name} after removing rows with NaN in date columns:\")\n",
    "        #print(df.head(), \"\\n\")\n"
   ]
  },
  {
   "cell_type": "markdown",
   "id": "8add9a7d-14a9-4958-93f1-42e35e137e13",
   "metadata": {},
   "source": [
    "### Add station columns to each df"
   ]
  },
  {
   "cell_type": "code",
   "execution_count": 8,
   "id": "db89c244-0d9a-45ea-96f7-b6cf192f6528",
   "metadata": {},
   "outputs": [],
   "source": [
    "# Dictionary of sheet names and their corresponding station names\n",
    "station_mapping = {\n",
    "    'SAMPA-PURCHASES': 'Sampa',\n",
    "    'NKRANKWANTA-PURCHASES': 'Nkrankwanta',\n",
    "    'DROBO-PURCHASES': 'Drobo',\n",
    "    'WENCHI-PURCHASES': 'Wenchi',\n",
    "    'TECHIMAN-PURCHASES': 'Techiman',\n",
    "    'SAWLA-PURCHASES': 'Sawla'\n",
    "}\n",
    "\n",
    "# Add the 'Station' column for each DataFrame\n",
    "for sheet, station in station_mapping.items():\n",
    "    # Get the DataFrame corresponding to the sheet\n",
    "    df = globals().get(f'{sheet.replace(\"-PURCHASES\", \"\").lower()}_df')\n",
    "    \n",
    "    if df is not None:\n",
    "        # Add the 'Station' column with the appropriate station name\n",
    "        df['Station'] = station\n",
    "        \n",
    "        # Display the first few rows to verify\n",
    "        #print(f\"Updated {sheet} with 'Station' column:\")\n",
    "       # print(df.head(), \"\\n\")\n"
   ]
  },
  {
   "cell_type": "markdown",
   "id": "6f8eac1f-6b5c-45e8-bc5f-7683fbcdb80c",
   "metadata": {},
   "source": [
    "### DF SHAPES"
   ]
  },
  {
   "cell_type": "code",
   "execution_count": 9,
   "id": "0c106d10-4ec4-45b2-a966-8c42d9f32689",
   "metadata": {},
   "outputs": [
    {
     "name": "stdout",
     "output_type": "stream",
     "text": [
      "Shape of sampa_df: (4, 21)\n",
      "Shape of nkrankwanta_df: (3, 21)\n",
      "Shape of drobo_df: (20, 21)\n",
      "Shape of wenchi_df: (21, 21)\n",
      "Shape of techiman_df: (43, 21)\n",
      "Shape of sawla_df: (0, 21)\n"
     ]
    },
    {
     "data": {
      "text/html": [
       "<div>\n",
       "<style scoped>\n",
       "    .dataframe tbody tr th:only-of-type {\n",
       "        vertical-align: middle;\n",
       "    }\n",
       "\n",
       "    .dataframe tbody tr th {\n",
       "        vertical-align: top;\n",
       "    }\n",
       "\n",
       "    .dataframe thead th {\n",
       "        text-align: right;\n",
       "    }\n",
       "</style>\n",
       "<table border=\"1\" class=\"dataframe\">\n",
       "  <thead>\n",
       "    <tr style=\"text-align: right;\">\n",
       "      <th></th>\n",
       "      <th>Date</th>\n",
       "      <th>Name</th>\n",
       "      <th>Grn #</th>\n",
       "      <th>KOR</th>\n",
       "      <th>Moisture %</th>\n",
       "      <th># of Bags</th>\n",
       "      <th>Cum bags</th>\n",
       "      <th>wgt/bag</th>\n",
       "      <th>Net wgt</th>\n",
       "      <th>Cum wgt</th>\n",
       "      <th>...</th>\n",
       "      <th>Value</th>\n",
       "      <th>Cum value</th>\n",
       "      <th>Cheque No.</th>\n",
       "      <th>Receipt No.</th>\n",
       "      <th>Funding</th>\n",
       "      <th>SAP PO ID</th>\n",
       "      <th>Tra/Org</th>\n",
       "      <th>Wk</th>\n",
       "      <th>Month</th>\n",
       "      <th>Station</th>\n",
       "    </tr>\n",
       "  </thead>\n",
       "  <tbody>\n",
       "    <tr>\n",
       "      <th>0</th>\n",
       "      <td>2025-01-15</td>\n",
       "      <td>Gabriel Kwabena Fosu</td>\n",
       "      <td>51.0</td>\n",
       "      <td>50.78</td>\n",
       "      <td>12.1</td>\n",
       "      <td>11.0</td>\n",
       "      <td>11</td>\n",
       "      <td>86.181818</td>\n",
       "      <td>948.0</td>\n",
       "      <td>948</td>\n",
       "      <td>...</td>\n",
       "      <td>20856.0</td>\n",
       "      <td>20856.0</td>\n",
       "      <td>352</td>\n",
       "      <td>101</td>\n",
       "      <td>C&amp;C</td>\n",
       "      <td>NaN</td>\n",
       "      <td>NaN</td>\n",
       "      <td>3.0</td>\n",
       "      <td>Jan</td>\n",
       "      <td>Drobo</td>\n",
       "    </tr>\n",
       "    <tr>\n",
       "      <th>1</th>\n",
       "      <td>2025-01-16</td>\n",
       "      <td>Gabriel Kwabena Fosu</td>\n",
       "      <td>52.0</td>\n",
       "      <td>52.09</td>\n",
       "      <td>11.9</td>\n",
       "      <td>19.0</td>\n",
       "      <td>30</td>\n",
       "      <td>84.736842</td>\n",
       "      <td>1610.0</td>\n",
       "      <td>2558</td>\n",
       "      <td>...</td>\n",
       "      <td>35420.0</td>\n",
       "      <td>56276.0</td>\n",
       "      <td>353</td>\n",
       "      <td>102</td>\n",
       "      <td>C&amp;C</td>\n",
       "      <td>NaN</td>\n",
       "      <td>NaN</td>\n",
       "      <td>3.0</td>\n",
       "      <td>Jan</td>\n",
       "      <td>Drobo</td>\n",
       "    </tr>\n",
       "  </tbody>\n",
       "</table>\n",
       "<p>2 rows × 21 columns</p>\n",
       "</div>"
      ],
      "text/plain": [
       "        Date                  Name  Grn #    KOR  Moisture %  # of Bags  \\\n",
       "0 2025-01-15  Gabriel Kwabena Fosu   51.0  50.78        12.1       11.0   \n",
       "1 2025-01-16  Gabriel Kwabena Fosu   52.0  52.09        11.9       19.0   \n",
       "\n",
       "   Cum bags    wgt/bag  Net wgt  Cum wgt  ...    Value  Cum value  Cheque No.  \\\n",
       "0        11  86.181818    948.0      948  ...  20856.0    20856.0         352   \n",
       "1        30  84.736842   1610.0     2558  ...  35420.0    56276.0         353   \n",
       "\n",
       "  Receipt No. Funding SAP PO ID  Tra/Org   Wk  Month Station  \n",
       "0         101     C&C       NaN      NaN  3.0    Jan   Drobo  \n",
       "1         102     C&C       NaN      NaN  3.0    Jan   Drobo  \n",
       "\n",
       "[2 rows x 21 columns]"
      ]
     },
     "execution_count": 9,
     "metadata": {},
     "output_type": "execute_result"
    }
   ],
   "source": [
    "# Loop through each DataFrame and print its shape\n",
    "for df_name in dfs:\n",
    "    df = globals().get(df_name)\n",
    "    \n",
    "    if df is not None:\n",
    "        # Print the shape of the DataFrame\n",
    "        print(f\"Shape of {df_name}: {df.shape}\")\n",
    "drobo_df.head(2)"
   ]
  },
  {
   "cell_type": "code",
   "execution_count": null,
   "id": "92aa3c1b-cecb-497f-9c8e-42bea43b56c9",
   "metadata": {},
   "outputs": [],
   "source": []
  },
  {
   "cell_type": "code",
   "execution_count": 10,
   "id": "8016131a-37a9-42ca-977e-bc14ffe26de8",
   "metadata": {},
   "outputs": [
    {
     "name": "stdout",
     "output_type": "stream",
     "text": [
      "Shape of the combined DataFrame: (91, 21)\n",
      "Combined DataFrame has been saved as 'Ghana RCN Purchases.xlsx'\n",
      "(91, 21)\n"
     ]
    },
    {
     "data": {
      "text/html": [
       "<div>\n",
       "<style scoped>\n",
       "    .dataframe tbody tr th:only-of-type {\n",
       "        vertical-align: middle;\n",
       "    }\n",
       "\n",
       "    .dataframe tbody tr th {\n",
       "        vertical-align: top;\n",
       "    }\n",
       "\n",
       "    .dataframe thead th {\n",
       "        text-align: right;\n",
       "    }\n",
       "</style>\n",
       "<table border=\"1\" class=\"dataframe\">\n",
       "  <thead>\n",
       "    <tr style=\"text-align: right;\">\n",
       "      <th></th>\n",
       "      <th>Date</th>\n",
       "      <th>Name</th>\n",
       "      <th>Grn #</th>\n",
       "      <th>KOR</th>\n",
       "      <th>Moisture %</th>\n",
       "      <th># of Bags</th>\n",
       "      <th>Cum bags</th>\n",
       "      <th>wgt/bag</th>\n",
       "      <th>Net wgt</th>\n",
       "      <th>Cum wgt</th>\n",
       "      <th>...</th>\n",
       "      <th>Value</th>\n",
       "      <th>Cum value</th>\n",
       "      <th>Cheque No.</th>\n",
       "      <th>Receipt No.</th>\n",
       "      <th>Funding</th>\n",
       "      <th>SAP PO ID</th>\n",
       "      <th>Tra/Org</th>\n",
       "      <th>Wk</th>\n",
       "      <th>Month</th>\n",
       "      <th>Station</th>\n",
       "    </tr>\n",
       "  </thead>\n",
       "  <tbody>\n",
       "    <tr>\n",
       "      <th>48</th>\n",
       "      <td>2025-01-13</td>\n",
       "      <td>Hamidu Ahmed Harrison</td>\n",
       "      <td>151.0</td>\n",
       "      <td>NaN</td>\n",
       "      <td>11.9</td>\n",
       "      <td>24.0</td>\n",
       "      <td>24.0</td>\n",
       "      <td>84.833333</td>\n",
       "      <td>2036.0</td>\n",
       "      <td>2036.0</td>\n",
       "      <td>...</td>\n",
       "      <td>44792.0</td>\n",
       "      <td>44792.0</td>\n",
       "      <td>85</td>\n",
       "      <td>0002</td>\n",
       "      <td>C&amp;C</td>\n",
       "      <td>NaN</td>\n",
       "      <td>NaN</td>\n",
       "      <td>3.0</td>\n",
       "      <td>Jan</td>\n",
       "      <td>Techiman</td>\n",
       "    </tr>\n",
       "    <tr>\n",
       "      <th>49</th>\n",
       "      <td>2025-01-13</td>\n",
       "      <td>Adam Kwadwo Fordjour</td>\n",
       "      <td>152.0</td>\n",
       "      <td>NaN</td>\n",
       "      <td>11.9</td>\n",
       "      <td>23.0</td>\n",
       "      <td>47.0</td>\n",
       "      <td>85.086957</td>\n",
       "      <td>1957.0</td>\n",
       "      <td>3993.0</td>\n",
       "      <td>...</td>\n",
       "      <td>43054.0</td>\n",
       "      <td>87846.0</td>\n",
       "      <td>86</td>\n",
       "      <td>4501</td>\n",
       "      <td>C&amp;C</td>\n",
       "      <td>NaN</td>\n",
       "      <td>NaN</td>\n",
       "      <td>3.0</td>\n",
       "      <td>Jan</td>\n",
       "      <td>Techiman</td>\n",
       "    </tr>\n",
       "  </tbody>\n",
       "</table>\n",
       "<p>2 rows × 21 columns</p>\n",
       "</div>"
      ],
      "text/plain": [
       "         Date                   Name  Grn #  KOR  Moisture %  # of Bags  \\\n",
       "48 2025-01-13  Hamidu Ahmed Harrison  151.0  NaN        11.9       24.0   \n",
       "49 2025-01-13   Adam Kwadwo Fordjour  152.0  NaN        11.9       23.0   \n",
       "\n",
       "    Cum bags    wgt/bag  Net wgt  Cum wgt  ...    Value  Cum value  \\\n",
       "48      24.0  84.833333   2036.0   2036.0  ...  44792.0    44792.0   \n",
       "49      47.0  85.086957   1957.0   3993.0  ...  43054.0    87846.0   \n",
       "\n",
       "    Cheque No. Receipt No. Funding SAP PO ID  Tra/Org   Wk  Month   Station  \n",
       "48          85        0002     C&C       NaN      NaN  3.0    Jan  Techiman  \n",
       "49          86        4501     C&C       NaN      NaN  3.0    Jan  Techiman  \n",
       "\n",
       "[2 rows x 21 columns]"
      ]
     },
     "execution_count": 10,
     "metadata": {},
     "output_type": "execute_result"
    }
   ],
   "source": [
    "# List of all DataFrames (already created)\n",
    "dfs = ['sampa_df', 'nkrankwanta_df', 'drobo_df', 'wenchi_df', 'techiman_df', 'sawla_df']\n",
    "\n",
    "# List to hold the DataFrames\n",
    "df_list = []\n",
    "\n",
    "# Loop through each DataFrame and append to the list\n",
    "for df_name in dfs:\n",
    "    df = globals().get(df_name)\n",
    "    \n",
    "    if df is not None:\n",
    "        df_list.append(df)\n",
    "\n",
    "# Concatenate all DataFrames in the list into a single DataFrame\n",
    "combined_df = pd.concat(df_list, ignore_index=True)\n",
    "\n",
    "# Convert the 'Date' column to datetime format (adjust the column name if necessary)\n",
    "combined_df['Date'] = pd.to_datetime(combined_df['Date'], errors='coerce')\n",
    "\n",
    "# Sort by the 'Date' column (ascending order is default)\n",
    "combined_df = combined_df.sort_values(by='Date')\n",
    "\n",
    "# Display the shape of the combined DataFrame\n",
    "print(f\"Shape of the combined DataFrame: {combined_df.shape}\")\n",
    "\n",
    "# Display the first few rows to verify\n",
    "#print(combined_df.head())\n",
    "# Save the combined DataFrame to an Excel file\n",
    "combined_df.to_excel('Ghana RCN Purchases.xlsx', index=False)\n",
    "\n",
    "# Confirm that the file was saved\n",
    "print(\"Combined DataFrame has been saved as 'Ghana RCN Purchases.xlsx'\")\n",
    "print(combined_df.shape)\n",
    "combined_df.head(2)"
   ]
  },
  {
   "cell_type": "markdown",
   "id": "bcbe7cf1-c8ec-4b77-8a77-b4278b10492e",
   "metadata": {},
   "source": [
    "## Tracking Changes \n",
    "Tracking Changes in Quantity, Moisture, KOR, Bags, and Rate in latest report"
   ]
  },
  {
   "cell_type": "code",
   "execution_count": 11,
   "id": "5f4d7da8-798f-4cd7-98e5-8714fd629dc1",
   "metadata": {},
   "outputs": [
    {
     "name": "stdout",
     "output_type": "stream",
     "text": [
      "(87, 21)\n"
     ]
    },
    {
     "data": {
      "text/html": [
       "<div>\n",
       "<style scoped>\n",
       "    .dataframe tbody tr th:only-of-type {\n",
       "        vertical-align: middle;\n",
       "    }\n",
       "\n",
       "    .dataframe tbody tr th {\n",
       "        vertical-align: top;\n",
       "    }\n",
       "\n",
       "    .dataframe thead th {\n",
       "        text-align: right;\n",
       "    }\n",
       "</style>\n",
       "<table border=\"1\" class=\"dataframe\">\n",
       "  <thead>\n",
       "    <tr style=\"text-align: right;\">\n",
       "      <th></th>\n",
       "      <th>Date</th>\n",
       "      <th>Name</th>\n",
       "      <th>Grn #</th>\n",
       "      <th>KOR</th>\n",
       "      <th>Moisture %</th>\n",
       "      <th># of Bags</th>\n",
       "      <th>Cum bags</th>\n",
       "      <th>wgt/bag</th>\n",
       "      <th>Net wgt</th>\n",
       "      <th>Cum wgt</th>\n",
       "      <th>...</th>\n",
       "      <th>Value</th>\n",
       "      <th>Cum value</th>\n",
       "      <th>Cheque No.</th>\n",
       "      <th>Receipt No.</th>\n",
       "      <th>Funding</th>\n",
       "      <th>SAP PO ID</th>\n",
       "      <th>Tra/Org</th>\n",
       "      <th>Wk</th>\n",
       "      <th>Month</th>\n",
       "      <th>Station</th>\n",
       "    </tr>\n",
       "  </thead>\n",
       "  <tbody>\n",
       "    <tr>\n",
       "      <th>0</th>\n",
       "      <td>2025-01-13</td>\n",
       "      <td>Hamidu Ahmed Harrison</td>\n",
       "      <td>151</td>\n",
       "      <td>NaN</td>\n",
       "      <td>11.9</td>\n",
       "      <td>24</td>\n",
       "      <td>24</td>\n",
       "      <td>84.833333</td>\n",
       "      <td>2036.0</td>\n",
       "      <td>2036.0</td>\n",
       "      <td>...</td>\n",
       "      <td>44792.0</td>\n",
       "      <td>44792.0</td>\n",
       "      <td>85</td>\n",
       "      <td>0002</td>\n",
       "      <td>C&amp;C</td>\n",
       "      <td>NaN</td>\n",
       "      <td>NaN</td>\n",
       "      <td>3</td>\n",
       "      <td>Jan</td>\n",
       "      <td>Techiman</td>\n",
       "    </tr>\n",
       "    <tr>\n",
       "      <th>1</th>\n",
       "      <td>2025-01-13</td>\n",
       "      <td>Adam Kwadwo Fordjour</td>\n",
       "      <td>152</td>\n",
       "      <td>NaN</td>\n",
       "      <td>11.9</td>\n",
       "      <td>23</td>\n",
       "      <td>47</td>\n",
       "      <td>85.086957</td>\n",
       "      <td>1957.0</td>\n",
       "      <td>3993.0</td>\n",
       "      <td>...</td>\n",
       "      <td>43054.0</td>\n",
       "      <td>87846.0</td>\n",
       "      <td>86</td>\n",
       "      <td>4501</td>\n",
       "      <td>C&amp;C</td>\n",
       "      <td>NaN</td>\n",
       "      <td>NaN</td>\n",
       "      <td>3</td>\n",
       "      <td>Jan</td>\n",
       "      <td>Techiman</td>\n",
       "    </tr>\n",
       "  </tbody>\n",
       "</table>\n",
       "<p>2 rows × 21 columns</p>\n",
       "</div>"
      ],
      "text/plain": [
       "        Date                   Name Grn #  KOR  Moisture %  # of Bags  \\\n",
       "0 2025-01-13  Hamidu Ahmed Harrison   151  NaN        11.9         24   \n",
       "1 2025-01-13   Adam Kwadwo Fordjour   152  NaN        11.9         23   \n",
       "\n",
       "   Cum bags    wgt/bag  Net wgt  Cum wgt  ...    Value  Cum value  Cheque No.  \\\n",
       "0        24  84.833333   2036.0   2036.0  ...  44792.0    44792.0          85   \n",
       "1        47  85.086957   1957.0   3993.0  ...  43054.0    87846.0          86   \n",
       "\n",
       "  Receipt No. Funding SAP PO ID  Tra/Org  Wk  Month   Station  \n",
       "0        0002     C&C       NaN      NaN   3    Jan  Techiman  \n",
       "1        4501     C&C       NaN      NaN   3    Jan  Techiman  \n",
       "\n",
       "[2 rows x 21 columns]"
      ]
     },
     "execution_count": 11,
     "metadata": {},
     "output_type": "execute_result"
    }
   ],
   "source": [
    "# Loading old report\n",
    "ordf = pd.read_excel(\"GRCN Yesterday Purchases.xlsx\")\n",
    "print(ordf.shape)\n",
    "ordf.head(2)"
   ]
  },
  {
   "cell_type": "code",
   "execution_count": 12,
   "id": "9a9c056a-1884-4042-8a66-7678a478000c",
   "metadata": {},
   "outputs": [
    {
     "name": "stdout",
     "output_type": "stream",
     "text": [
      "Shape of combined_df: (91, 21)\n",
      "Shape of ordf: (87, 21)\n"
     ]
    }
   ],
   "source": [
    "# Print the shapes of combined_df and ordf\n",
    "print(f\"Shape of combined_df: {combined_df.shape}\")\n",
    "print(f\"Shape of ordf: {ordf.shape}\")"
   ]
  },
  {
   "cell_type": "code",
   "execution_count": 13,
   "id": "2dedd10f-cddc-4376-9d46-ac261cba980e",
   "metadata": {},
   "outputs": [
    {
     "name": "stdout",
     "output_type": "stream",
     "text": [
      "Number of new GRNs: 4\n",
      "         Date                    Name  Grn #  KOR  Moisture %  # of Bags  \\\n",
      "89 2025-02-03  Fordjour Adam Ventures  192.0  NaN         9.6       66.0   \n",
      "26 2025-02-03    Gabriel Kwabena Fosu   68.0  NaN        10.0      206.0   \n",
      "88 2025-02-03   Hamidu Ahmed Harrison  191.0  NaN         8.1       92.0   \n",
      "90 2025-02-03  Fordjour Adam Ventures  193.0  NaN         9.7       24.0   \n",
      "\n",
      "    Cum bags    wgt/bag   Net wgt    Cum wgt  ...     Value   Cum value  \\\n",
      "89    2450.0  86.515152   5710.00  207244.05  ...  137040.0  4789430.45   \n",
      "26     651.0         80  16480.00   55287.00  ...  395520.0  1264750.50   \n",
      "88    2384.0  86.826087   7988.00  201534.05  ...  188516.8  4652390.45   \n",
      "90    2474.0   84.13125   2019.15  209263.20  ...   48459.6  4837890.05   \n",
      "\n",
      "    Cheque No. Receipt No. Funding SAP PO ID  Tra/Org   Wk  Month   Station  \n",
      "89         415         NaN     C&C       NaN      NaN  5.0    Feb  Techiman  \n",
      "26         358         NaN      PF       NaN      NaN  5.0    Feb     Drobo  \n",
      "88         NaN         NaN      PF       NaN      NaN  5.0    Feb  Techiman  \n",
      "90         420         NaN     C&C       NaN      NaN  5.0    Feb  Techiman  \n",
      "\n",
      "[4 rows x 21 columns]\n"
     ]
    }
   ],
   "source": [
    "# Identify new GRNs in combined_df but not in ordf\n",
    "new_grns = combined_df[~combined_df['Grn #'].isin(ordf['Grn #'])]\n",
    "\n",
    "# Check if there are any new GRNs\n",
    "if not new_grns.empty:\n",
    "    print(f\"Number of new GRNs: {new_grns.shape[0]}\")\n",
    "    print(new_grns)\n",
    "else:\n",
    "    print(\"No new GRNs found.\")"
   ]
  },
  {
   "cell_type": "code",
   "execution_count": 14,
   "id": "7a4bd32d-7b7a-453d-87a1-bc4dc1a51d22",
   "metadata": {},
   "outputs": [
    {
     "name": "stdout",
     "output_type": "stream",
     "text": [
      "(91, 21)\n"
     ]
    },
    {
     "data": {
      "text/html": [
       "<div>\n",
       "<style scoped>\n",
       "    .dataframe tbody tr th:only-of-type {\n",
       "        vertical-align: middle;\n",
       "    }\n",
       "\n",
       "    .dataframe tbody tr th {\n",
       "        vertical-align: top;\n",
       "    }\n",
       "\n",
       "    .dataframe thead th {\n",
       "        text-align: right;\n",
       "    }\n",
       "</style>\n",
       "<table border=\"1\" class=\"dataframe\">\n",
       "  <thead>\n",
       "    <tr style=\"text-align: right;\">\n",
       "      <th></th>\n",
       "      <th>Date</th>\n",
       "      <th>Station</th>\n",
       "      <th>Name</th>\n",
       "      <th>Grn #</th>\n",
       "      <th>KOR</th>\n",
       "      <th>Moisture %</th>\n",
       "      <th># of Bags</th>\n",
       "      <th>Cum bags</th>\n",
       "      <th>wgt/bag</th>\n",
       "      <th>Net wgt</th>\n",
       "      <th>...</th>\n",
       "      <th>Rate</th>\n",
       "      <th>Value</th>\n",
       "      <th>Cum value</th>\n",
       "      <th>Cheque No.</th>\n",
       "      <th>Receipt No.</th>\n",
       "      <th>Funding</th>\n",
       "      <th>SAP PO ID</th>\n",
       "      <th>Tra/Org</th>\n",
       "      <th>Wk</th>\n",
       "      <th>Month</th>\n",
       "    </tr>\n",
       "  </thead>\n",
       "  <tbody>\n",
       "    <tr>\n",
       "      <th>48</th>\n",
       "      <td>2025-01-13</td>\n",
       "      <td>Techiman</td>\n",
       "      <td>Hamidu Ahmed Harrison</td>\n",
       "      <td>151.0</td>\n",
       "      <td>NaN</td>\n",
       "      <td>11.9</td>\n",
       "      <td>24.0</td>\n",
       "      <td>24.0</td>\n",
       "      <td>84.833333</td>\n",
       "      <td>2036.0</td>\n",
       "      <td>...</td>\n",
       "      <td>22.0</td>\n",
       "      <td>44792.0</td>\n",
       "      <td>44792.0</td>\n",
       "      <td>85</td>\n",
       "      <td>0002</td>\n",
       "      <td>C&amp;C</td>\n",
       "      <td>NaN</td>\n",
       "      <td>NaN</td>\n",
       "      <td>3.0</td>\n",
       "      <td>Jan</td>\n",
       "    </tr>\n",
       "    <tr>\n",
       "      <th>49</th>\n",
       "      <td>2025-01-13</td>\n",
       "      <td>Techiman</td>\n",
       "      <td>Adam Kwadwo Fordjour</td>\n",
       "      <td>152.0</td>\n",
       "      <td>NaN</td>\n",
       "      <td>11.9</td>\n",
       "      <td>23.0</td>\n",
       "      <td>47.0</td>\n",
       "      <td>85.086957</td>\n",
       "      <td>1957.0</td>\n",
       "      <td>...</td>\n",
       "      <td>22.0</td>\n",
       "      <td>43054.0</td>\n",
       "      <td>87846.0</td>\n",
       "      <td>86</td>\n",
       "      <td>4501</td>\n",
       "      <td>C&amp;C</td>\n",
       "      <td>NaN</td>\n",
       "      <td>NaN</td>\n",
       "      <td>3.0</td>\n",
       "      <td>Jan</td>\n",
       "    </tr>\n",
       "  </tbody>\n",
       "</table>\n",
       "<p>2 rows × 21 columns</p>\n",
       "</div>"
      ],
      "text/plain": [
       "         Date   Station                   Name  Grn #  KOR  Moisture %  \\\n",
       "48 2025-01-13  Techiman  Hamidu Ahmed Harrison  151.0  NaN        11.9   \n",
       "49 2025-01-13  Techiman   Adam Kwadwo Fordjour  152.0  NaN        11.9   \n",
       "\n",
       "    # of Bags  Cum bags    wgt/bag  Net wgt  ...  Rate    Value  Cum value  \\\n",
       "48       24.0      24.0  84.833333   2036.0  ...  22.0  44792.0    44792.0   \n",
       "49       23.0      47.0  85.086957   1957.0  ...  22.0  43054.0    87846.0   \n",
       "\n",
       "    Cheque No. Receipt No. Funding SAP PO ID  Tra/Org   Wk  Month  \n",
       "48          85        0002     C&C       NaN      NaN  3.0    Jan  \n",
       "49          86        4501     C&C       NaN      NaN  3.0    Jan  \n",
       "\n",
       "[2 rows x 21 columns]"
      ]
     },
     "execution_count": 14,
     "metadata": {},
     "output_type": "execute_result"
    }
   ],
   "source": [
    "# Define the desired column order\n",
    "column_order = [\n",
    "    'Date', 'Station', 'Name', 'Grn #', 'KOR', 'Moisture %', '# of Bags', 'Cum bags', \n",
    "    'wgt/bag', 'Net wgt', 'Cum wgt', 'Rate', 'Value', 'Cum value', 'Cheque No.', \n",
    "    'Receipt No.', 'Funding', 'SAP PO ID', 'Tra/Org', 'Wk', 'Month'\n",
    "]\n",
    "\n",
    "# Rearrange columns in the combined_df\n",
    "combined_df = combined_df[column_order]\n",
    "\n",
    "# Display the first few rows of the rearranged DataFrame to confirm\n",
    "print(combined_df.shape)\n",
    "combined_df.head(2)"
   ]
  },
  {
   "cell_type": "markdown",
   "id": "b97fc06c-46cc-4b39-8e61-ace376cbfa39",
   "metadata": {},
   "source": [
    "# Summary statistical analysis"
   ]
  },
  {
   "cell_type": "markdown",
   "id": "a0240e33-ff8f-4fe2-bb34-2d22b106e708",
   "metadata": {},
   "source": [
    "#### Overall"
   ]
  },
  {
   "cell_type": "code",
   "execution_count": 15,
   "id": "fe663bcc-9fa7-421d-adc7-e92c8fa41800",
   "metadata": {},
   "outputs": [
    {
     "name": "stdout",
     "output_type": "stream",
     "text": [
      "Total Quantity: 458769.80 kg\n",
      "Total Number of Bags: 5370.0\n",
      "Total Quantity (in tons): 458.77 tons\n",
      "Average KOR: 50.04\n",
      "Average Moisture %: 11.43%\n",
      "Average Rate: 22.67\n"
     ]
    }
   ],
   "source": [
    "# Calculate the summary statistics\n",
    "total_quantity = combined_df['Net wgt'].sum()\n",
    "total_number_of_bags = combined_df['# of Bags'].sum()\n",
    "total_quantity_in_tons = total_quantity / 1000\n",
    "average_kor = combined_df['KOR'].mean()\n",
    "average_moisture = combined_df['Moisture %'].mean()\n",
    "average_rate = combined_df['Rate'].mean()\n",
    "\n",
    "# Display the results\n",
    "print(f\"Total Quantity: {total_quantity:.2f} kg\")\n",
    "print(f\"Total Number of Bags: {total_number_of_bags}\")\n",
    "print(f\"Total Quantity (in tons): {total_quantity_in_tons:.2f} tons\")\n",
    "print(f\"Average KOR: {average_kor:.2f}\")\n",
    "print(f\"Average Moisture %: {average_moisture:.2f}%\")\n",
    "print(f\"Average Rate: {average_rate:.2f}\")\n"
   ]
  },
  {
   "cell_type": "markdown",
   "id": "bf57325b-f8a3-42f2-b283-0e6a12f19456",
   "metadata": {},
   "source": [
    "#### station based"
   ]
  },
  {
   "cell_type": "code",
   "execution_count": 16,
   "id": "de96150c-a0ee-4f66-b83f-5d51ec83b79c",
   "metadata": {},
   "outputs": [
    {
     "name": "stdout",
     "output_type": "stream",
     "text": [
      "       Station  total_quantity  total_number_of_bags  total_quantity_in_tons  \\\n",
      "0        Drobo         55287.0                 651.0                 55.2870   \n",
      "1  Nkrankwanta         39704.0                 476.0                 39.7040   \n",
      "2        Sampa         17055.0                 176.0                 17.0550   \n",
      "3     Techiman        209263.2                2474.0                209.2632   \n",
      "4       Wenchi        137460.6                1593.0                137.4606   \n",
      "\n",
      "   average_kor  average_moisture  average_rate  \n",
      "0    49.555263         12.000000     22.625000  \n",
      "1    51.560000          9.100000     22.600000  \n",
      "2    51.192500         12.950000     22.500000  \n",
      "3          NaN         10.434884     22.820930  \n",
      "4          NaN         12.980952     22.452381  \n"
     ]
    }
   ],
   "source": [
    "# Group by 'Station' and calculate the required statistics\n",
    "station_summary = combined_df.groupby('Station').agg(\n",
    "    total_quantity=('Net wgt', 'sum'),\n",
    "    total_number_of_bags=('# of Bags', 'sum'),\n",
    "    total_quantity_in_tons=('Net wgt', lambda x: x.sum() / 1000),\n",
    "    average_kor=('KOR', 'mean'),\n",
    "    average_moisture=('Moisture %', 'mean'),\n",
    "    average_rate=('Rate', 'mean')\n",
    ").reset_index()\n",
    "\n",
    "# Display the results\n",
    "print(station_summary)\n"
   ]
  },
  {
   "cell_type": "code",
   "execution_count": null,
   "id": "c00f031f-9c1e-4109-a86a-42176c27f5ea",
   "metadata": {},
   "outputs": [],
   "source": []
  },
  {
   "cell_type": "code",
   "execution_count": 17,
   "id": "d1483a30-20fc-4478-bf8e-743eb7c55061",
   "metadata": {},
   "outputs": [
    {
     "name": "stdout",
     "output_type": "stream",
     "text": [
      "Summaries have been saved to 'Purchases_Summary.xlsx'.\n"
     ]
    }
   ],
   "source": [
    "# Group by 'Funding' and calculate the required statistics\n",
    "funding_summary = combined_df.groupby('Funding').agg(\n",
    "    total_quantity=('Net wgt', 'sum'),\n",
    "    total_number_of_bags=('# of Bags', 'sum'),\n",
    "    total_quantity_in_tons=('Net wgt', lambda x: x.sum() / 1000),\n",
    "    average_kor=('KOR', 'mean'),\n",
    "    average_moisture=('Moisture %', 'mean'),\n",
    "    average_rate=('Rate', 'mean')\n",
    ").reset_index()\n",
    "\n",
    "# Group by 'Month' and calculate the required statistics\n",
    "month_summary = combined_df.groupby('Month').agg(\n",
    "    total_quantity=('Net wgt', 'sum'),\n",
    "    total_number_of_bags=('# of Bags', 'sum'),\n",
    "    total_quantity_in_tons=('Net wgt', lambda x: x.sum() / 1000),\n",
    "    average_kor=('KOR', 'mean'),\n",
    "    average_moisture=('Moisture %', 'mean'),\n",
    "    average_rate=('Rate', 'mean')\n",
    ").reset_index()\n",
    "\n",
    "# Get today's date and filter for records from today - 1 day\n",
    "today_date = pd.to_datetime('today').normalize() - pd.Timedelta(days=1)\n",
    "today_purchases = combined_df[combined_df['Date'] == today_date]\n",
    "\n",
    "# Group by 'Station' and calculate the required statistics for today's purchases\n",
    "today_summary = today_purchases.groupby('Station').agg(\n",
    "    total_quantity=('Net wgt', 'sum'),\n",
    "    total_number_of_bags=('# of Bags', 'sum'),\n",
    "    total_quantity_in_tons=('Net wgt', lambda x: x.sum() / 1000),\n",
    "    average_kor=('KOR', 'mean'),\n",
    "    average_moisture=('Moisture %', 'mean'),\n",
    "    average_rate=('Rate', 'mean')\n",
    ").reset_index()\n",
    "\n",
    "# Save all the summaries to Excel\n",
    "with pd.ExcelWriter(\"Purchases_Summary.xlsx\") as writer:\n",
    "    funding_summary.to_excel(writer, sheet_name=\"Funding Summary\", index=False)\n",
    "    month_summary.to_excel(writer, sheet_name=\"Month Summary\", index=False)\n",
    "    today_summary.to_excel(writer, sheet_name=\"Today's Purchases\", index=False)\n",
    "    station_summary.to_excel(writer, sheet_name=\"Station's Purchases\", index=False)\n",
    "\n",
    "\n",
    "print(\"Summaries have been saved to 'Purchases_Summary.xlsx'.\")"
   ]
  },
  {
   "cell_type": "code",
   "execution_count": null,
   "id": "97dc2c8f-6b63-4f5a-a5ad-c1c4a5765c28",
   "metadata": {},
   "outputs": [],
   "source": []
  },
  {
   "cell_type": "code",
   "execution_count": null,
   "id": "e89dd22a-1026-4c41-926b-be348270ac75",
   "metadata": {},
   "outputs": [],
   "source": []
  },
  {
   "cell_type": "code",
   "execution_count": null,
   "id": "a3413866-2d69-4385-b015-9eb5cec406c8",
   "metadata": {},
   "outputs": [],
   "source": []
  },
  {
   "cell_type": "code",
   "execution_count": null,
   "id": "a54a736f-07a1-4040-9568-7744925f563b",
   "metadata": {},
   "outputs": [],
   "source": []
  },
  {
   "cell_type": "code",
   "execution_count": null,
   "id": "3e284373-83c8-48d0-8062-558cb5301fcc",
   "metadata": {},
   "outputs": [],
   "source": []
  },
  {
   "cell_type": "markdown",
   "id": "1a78650d-3fa4-405b-aed8-8750eaea1bf0",
   "metadata": {},
   "source": [
    "# Specify the columns to check for changes\n",
    "columns_to_check = ['Net wgt', 'Moisture %', 'KOR', '# of Bags', 'Rate']\n",
    "\n",
    "# Merge the DataFrames on 'Grn #'\n",
    "merged_df = combined_df.merge(ordf, on='Grn #', suffixes=('_new', '_old'))\n",
    "\n",
    "# Initialize a list to store rows with changes\n",
    "changes_list = []\n",
    "\n",
    "# Loop through each row to compare\n",
    "for _, row in merged_df.iterrows():\n",
    "    changes = {}\n",
    "    for column in columns_to_check:\n",
    "        new_col = f\"{column}_new\"\n",
    "        old_col = f\"{column}_old\"\n",
    "        # Compare values, handling NaN and numeric precision\n",
    "        new_value = row[new_col]\n",
    "        old_value = row[old_col]\n",
    "        if pd.isna(new_value) and pd.isna(old_value):\n",
    "            continue  # Skip if both are NaN\n",
    "        elif new_value != old_value and not (pd.isna(new_value) or pd.isna(old_value)):\n",
    "            changes['Grn #'] = row['Grn #']\n",
    "            changes[new_col] = new_value\n",
    "            changes[old_col] = old_value\n",
    "    if changes:  # Append only if there are changes\n",
    "        changes_list.append(changes)\n",
    "\n",
    "# Convert the list of changes to a DataFrame\n",
    "changes_df = pd.DataFrame(changes_list)\n",
    "\n",
    "# Display the changes\n",
    "print(f\"Number of rows with changes: {changes_df.shape[0]}\")\n",
    "print(changes_df)\n"
   ]
  },
  {
   "cell_type": "code",
   "execution_count": null,
   "id": "aec7c851-ee07-4963-a482-e94155864f7a",
   "metadata": {},
   "outputs": [],
   "source": []
  },
  {
   "cell_type": "code",
   "execution_count": null,
   "id": "8f3d0575-d386-4a84-a79a-87cecd650b7b",
   "metadata": {},
   "outputs": [],
   "source": []
  },
  {
   "cell_type": "code",
   "execution_count": 18,
   "id": "377fdb8a-e675-4d39-a8d1-9748629e4fd6",
   "metadata": {},
   "outputs": [],
   "source": [
    "combined_df.to_excel('combined_data.xlsx', index=False)"
   ]
  }
 ],
 "metadata": {
  "kernelspec": {
   "display_name": "Python 3 (ipykernel)",
   "language": "python",
   "name": "python3"
  },
  "language_info": {
   "codemirror_mode": {
    "name": "ipython",
    "version": 3
   },
   "file_extension": ".py",
   "mimetype": "text/x-python",
   "name": "python",
   "nbconvert_exporter": "python",
   "pygments_lexer": "ipython3",
   "version": "3.11.7"
  }
 },
 "nbformat": 4,
 "nbformat_minor": 5
}
