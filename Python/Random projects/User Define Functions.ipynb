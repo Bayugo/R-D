{
 "cells": [
  {
   "cell_type": "markdown",
   "id": "79926c3c",
   "metadata": {},
   "source": [
    "# Conditional statements"
   ]
  },
  {
   "cell_type": "code",
   "execution_count": 1,
   "id": "18363cae-6db2-4911-89a9-35fa859b153a",
   "metadata": {},
   "outputs": [],
   "source": [
    "import pre_commit"
   ]
  },
  {
   "cell_type": "code",
   "execution_count": 2,
   "id": "cb809152-6414-4482-b871-59b41b1fe47c",
   "metadata": {},
   "outputs": [],
   "source": [
    "import geoplot"
   ]
  },
  {
   "cell_type": "markdown",
   "id": "3bc697c5",
   "metadata": {},
   "source": [
    "### Logical mathematical conditions\n",
    "Equals: a==b\n",
    "\n",
    "Not equals: a != b\n",
    "\n",
    "Less than: a<b\n",
    "\n",
    "Greater than: a>b\n",
    "\n",
    "less than or equal to: a <= b\n",
    "\n",
    "greater than or equal to: a >= b\n",
    "\n",
    "           "
   ]
  },
  {
   "cell_type": "markdown",
   "id": "a6ed0cde",
   "metadata": {},
   "source": [
    "## If, elif, and If else statements"
   ]
  },
  {
   "cell_type": "code",
   "execution_count": 3,
   "id": "865fb23f",
   "metadata": {},
   "outputs": [
    {
     "name": "stdout",
     "output_type": "stream",
     "text": [
      "True\n",
      "Yes, a-15 is equal to b + 21\n",
      "Cow and Horse do not have the same number of characters\n",
      "True a is greater than b\n",
      "bingo!\n"
     ]
    }
   ],
   "source": [
    "a = 44\n",
    "b = 8\n",
    "c = \"Cow\"\n",
    "d = \"Horse\"\n",
    "\n",
    "#Example 1\n",
    "if a == 44:\n",
    "    print(True)\n",
    "    \n",
    "#Example 2:\n",
    "if a-15 == b + 21:\n",
    "    print(\"Yes, a-15 is equal to b + 21\")\n",
    "\n",
    "#Example 3\n",
    "if len(c)==len(d):\n",
    "    print(c, \"and\", d, \"has the same number of characters\")\n",
    "elif len(c)!=len(d):\n",
    "        print(c, \"and\", d, \"do not have the same number of characters\")\n",
    "\n",
    "\n",
    "if a >= b:\n",
    "    print(True, \"a is greater than b\")\n",
    "else:\n",
    "    print(False)\n",
    "\n",
    "#example 2\n",
    "if b**3/50 != a/2:\n",
    "    print(\"bingo!\")\n",
    "else:\n",
    "    print(\"Psych!\")"
   ]
  },
  {
   "cell_type": "markdown",
   "id": "986bdd97",
   "metadata": {},
   "source": [
    "### Even or Odd:\n",
    "\n",
    "Write a program that takes an integer as input and prints whether it is even or odd"
   ]
  },
  {
   "cell_type": "code",
   "execution_count": 4,
   "id": "c7b4c3e1",
   "metadata": {},
   "outputs": [
    {
     "name": "stdin",
     "output_type": "stream",
     "text": [
      "Enter a number to determine if it is odd or even 2\n"
     ]
    },
    {
     "name": "stdout",
     "output_type": "stream",
     "text": [
      "2 is an even number\n"
     ]
    }
   ],
   "source": [
    "num = int(input(\"Enter a number to determine if it is odd or even\"))\n",
    "if (num % 2) == 0:\n",
    "    print(num, \"is an even number\")\n",
    "elif(num % 2) > 0:\n",
    "    print(num, \"is an odd number\")"
   ]
  },
  {
   "cell_type": "markdown",
   "id": "64cc295d",
   "metadata": {},
   "source": [
    "### Grade Classifier:\n",
    "\n",
    "Create a program that prompts the user for a numerical grade (0-100) and prints the corresponding letter grade (A, B, C, D, or F)"
   ]
  },
  {
   "cell_type": "code",
   "execution_count": 6,
   "id": "940c2dca",
   "metadata": {},
   "outputs": [
    {
     "name": "stdin",
     "output_type": "stream",
     "text": [
      "Enter your exam score (0 - 100) 77\n"
     ]
    },
    {
     "name": "stdout",
     "output_type": "stream",
     "text": [
      "B\n"
     ]
    }
   ],
   "source": [
    "grade = int(input(\"Enter your exam score (0 - 100)\"))\n",
    "\n",
    "if  grade >= 80 and grade <= 100:\n",
    "    print (\"A\")\n",
    "elif grade >= 70 and grade <= 79:\n",
    "    print(\"B\")\n",
    "elif grade >= 60 and grade <= 69:\n",
    "    print(\"C\")\n",
    "elif grade >= 50 and grade <= 59:\n",
    "    print(\"D\")\n",
    "\n",
    "elif grade >= 40 and grade <= 49:\n",
    "    print(\"E\")\n",
    "else:\n",
    "    print(\"F\")"
   ]
  },
  {
   "cell_type": "code",
   "execution_count": 7,
   "id": "bf5251dd",
   "metadata": {},
   "outputs": [
    {
     "name": "stdin",
     "output_type": "stream",
     "text": [
      "Enter your exam score (0-100):  242\n"
     ]
    },
    {
     "name": "stdout",
     "output_type": "stream",
     "text": [
      "My brother, you need help\n"
     ]
    }
   ],
   "source": [
    "grde = int(input(\"Enter your exam score (0-100): \"))\n",
    "def score (grade):\n",
    "    if  grade >= 80 and grade <= 100:\n",
    "        return (\"A\")\n",
    "    elif grade >= 70 and grade <= 79:\n",
    "        return(\"B\")\n",
    "    elif grade >= 60 and grade <= 69:\n",
    "        return(\"C\")\n",
    "    elif grade >= 50 and grade <= 59:\n",
    "        return(\"D\")\n",
    "    elif grade >= 40 and grade <= 49:\n",
    "        return(\"E\")\n",
    "    else:\n",
    "        return(\"F\")\n",
    "#score(grde)\n",
    "\n",
    "remarks = score(grde)\n",
    "if remarks == \"A\":\n",
    "    print(\"Congratulations, you got an \", remarks)\n",
    "elif remarks == \"B\":\n",
    "    print(remarks + \", Good job\")\n",
    "elif remarks == \"C\":\n",
    "    print(\"Nice, you got a \", remarks)\n",
    "elif remarks == \"D\":\n",
    "    print(\"Massa, w'aye lucky\", remarks)\n",
    "elif remarks == \"E\":\n",
    "    print( remarks + \", hmm \")\n",
    "else:\n",
    "    print(\"My brother, you need help\")\n",
    "    "
   ]
  },
  {
   "cell_type": "markdown",
   "id": "003c5d90",
   "metadata": {},
   "source": [
    "### Leap Year Checker:\n",
    "\n",
    "Build a program that checks if a given year is a leap year. Leap years are divisible by 4, except for years that are divisible by 100 but not divisible by 400"
   ]
  },
  {
   "cell_type": "code",
   "execution_count": 8,
   "id": "ce03f47a",
   "metadata": {},
   "outputs": [
    {
     "name": "stdin",
     "output_type": "stream",
     "text": [
      "Enter the year:  2025\n"
     ]
    },
    {
     "name": "stdout",
     "output_type": "stream",
     "text": [
      "2025 is not a leap year\n"
     ]
    }
   ],
   "source": [
    "year = int(input(\"Enter the year: \"))\n",
    "if (year % 4) == 0: \n",
    "    print(year, \"is a leap year\")\n",
    "else :\n",
    "    print(year, \"is not a leap year\")"
   ]
  },
  {
   "cell_type": "markdown",
   "id": "239c7660",
   "metadata": {},
   "source": [
    "### Temperature Converter:\n",
    "\n",
    "Write a program that converts a temperature from Fahrenheit to Celsius. The formula is (Fahrenheit - 32) * 5/9"
   ]
  },
  {
   "cell_type": "code",
   "execution_count": 9,
   "id": "74619bf3",
   "metadata": {},
   "outputs": [
    {
     "name": "stdin",
     "output_type": "stream",
     "text": [
      "Enter temperature in fahrenheit:  15\n"
     ]
    },
    {
     "name": "stdout",
     "output_type": "stream",
     "text": [
      "-2.7777777777777786 degrees celcius is equal to 15.0 degrees Fahrenheit\n"
     ]
    }
   ],
   "source": [
    "#temperature = int(input(\"Enter temperature to convert to Celcius: \"))\n",
    "#def temp(far, celcius):\n",
    "far = float(input(\"Enter temperature in fahrenheit: \"))\n",
    "celcius = (far - 32 * 5/9)\n",
    "    \n",
    "print(f\"{celcius} degrees celcius is equal to {far} degrees Fahrenheit\")"
   ]
  },
  {
   "cell_type": "markdown",
   "id": "a999e799",
   "metadata": {},
   "source": [
    "### Triangle Type:\n",
    "\n",
    "Create a program that takes three integers as inputs representing the sides of a triangle and outputs whether it is equilateral, isosceles, or scalene."
   ]
  },
  {
   "cell_type": "code",
   "execution_count": 10,
   "id": "fb60cafc",
   "metadata": {},
   "outputs": [
    {
     "name": "stdin",
     "output_type": "stream",
     "text": [
      "Enter the length of the left side:  5\n",
      "Enter the length of the right side:  5\n",
      "Enter the length of the base:  5\n"
     ]
    },
    {
     "name": "stdout",
     "output_type": "stream",
     "text": [
      "This is an equilateral triangle\n"
     ]
    }
   ],
   "source": [
    "left = int(input(\"Enter the length of the left side: \"))\n",
    "right = int(input(\"Enter the length of the right side: \"))\n",
    "base = int(input(\"Enter the length of the base: \"))\n",
    "\n",
    "#def triangle(equi, isosceles, or scalene):\n",
    "if left == right == base:\n",
    "    print(\"This is an equilateral triangle\")\n",
    "elif left == right != base:\n",
    "    print(\"It is an isosceles triangle\")\n",
    "else:\n",
    "    print(\"It is a scalene\")"
   ]
  },
  {
   "cell_type": "markdown",
   "id": "b95cde1a",
   "metadata": {},
   "source": [
    "### Positive, Negative, or Zero:\n",
    "\n",
    "Develop a program that reads a number from the user and prints whether it is positive, negative, or zero."
   ]
  },
  {
   "cell_type": "code",
   "execution_count": 11,
   "id": "c3171add",
   "metadata": {
    "scrolled": true
   },
   "outputs": [
    {
     "name": "stdin",
     "output_type": "stream",
     "text": [
      "Enter number:  5\n"
     ]
    },
    {
     "name": "stdout",
     "output_type": "stream",
     "text": [
      "5.0 is a positive number\n"
     ]
    }
   ],
   "source": [
    "num = float(input(\"Enter number: \"))\n",
    "if num > 0.0:\n",
    "    print(f\"{num} is a positive number\")\n",
    "elif num == 0:\n",
    "    print(f\"{num} is zero\")\n",
    "else: \n",
    "    print(f\"{num} is a negative number\")"
   ]
  },
  {
   "cell_type": "markdown",
   "id": "f7eee083",
   "metadata": {},
   "source": [
    "### Vowel or Consonant:\n",
    "\n",
    "Write a program that takes a single character as input and prints whether it is a vowel or a consonant."
   ]
  },
  {
   "cell_type": "code",
   "execution_count": 36,
   "id": "ec2eb576",
   "metadata": {},
   "outputs": [
    {
     "name": "stdout",
     "output_type": "stream",
     "text": [
      "Enter a character: 5\n",
      "5 is not an alphabet\n"
     ]
    }
   ],
   "source": [
    "vowels= ['a', 'e', 'i', 'o', 'u']\n",
    "\n",
    "consonants = ['b', 'c', 'd', 'f', 'g', 'h', 'j', 'k', 'l', 'm', 'n', 'p', 'q', 'r', 's', 't', 'v', 'w', 'x', 'y', 'z']\n",
    "character = input(\"Enter a character: \")\n",
    "\n",
    "if character.isalpha() and character.lower() in consonants:\n",
    "    print(f\"{character} is a consonant\")\n",
    "elif character.isalpha() and character.lower() in vowels: \n",
    "    print(f\"{character} is a vowel\")\n",
    "else:\n",
    "    print(f\"{character} is not an alphabet\")"
   ]
  },
  {
   "cell_type": "markdown",
   "id": "bf5514bf",
   "metadata": {},
   "source": [
    "### BMI Calculator:\n",
    "\n",
    "Build a program that calculates BMI (Body Mass Index) based on user input of weight (in kilograms) and height (in meters), and then categorizes it as \n",
    "\n",
    "underweight(<18.5), \n",
    "\n",
    "normal weight(18.5 to 24.9), \n",
    "\n",
    "overweight(25 to 29.9), or \n",
    "\n",
    "obese(>=30)."
   ]
  },
  {
   "cell_type": "code",
   "execution_count": null,
   "id": "15b22e07",
   "metadata": {},
   "outputs": [],
   "source": [
    "Weight = float(input(\"Enter weight in kg: \"))\n",
    "height = float(input(\"Enter height in meters: \"))\n",
    "\n",
    "BMI = Weight/height**2\n",
    "print(f\"{BMI}kg\")\n",
    "\n",
    "if BMI < 18.5:\n",
    "    print(\"This mf is underweight\")\n",
    "elif BMI >= 18.5 and BMI <= 24.9:\n",
    "    print(\"You have a normal weight\")\n",
    "elif BMI >= 25 and BMI <= 29.9:\n",
    "    print(\"You're overweight\")\n",
    "else:\n",
    "    print(\"Obese\")\n"
   ]
  },
  {
   "cell_type": "markdown",
   "id": "b6d3b6c7",
   "metadata": {},
   "source": [
    "### Largest among Three:\n",
    "\n",
    "Create a program that takes three numbers as input and prints the largest among them.\n"
   ]
  },
  {
   "cell_type": "code",
   "execution_count": 10,
   "id": "bc64faa9",
   "metadata": {},
   "outputs": [
    {
     "name": "stdout",
     "output_type": "stream",
     "text": [
      "Enter first number: 5\n",
      "Enter second number: 2\n",
      "Enter third number: 6\n",
      "5\n"
     ]
    }
   ],
   "source": [
    "a = int(input(\"Enter first number: \"))\n",
    "b = int(input(\"Enter second number: \"))\n",
    "c = int(input(\"Enter third number: \"))\n",
    "if a > b and c:\n",
    "    print(a)\n",
    "elif b > a and c:\n",
    "    print(b)\n",
    "elif c > b and a:\n",
    "    print(c)"
   ]
  },
  {
   "cell_type": "markdown",
   "id": "b26aa651",
   "metadata": {},
   "source": [
    "### Number Sequence:\n",
    "\n",
    "Write a program that asks the user for a number and prints whether it is positive, negative, or zero. If it is positive, check if it is even or odd."
   ]
  },
  {
   "cell_type": "code",
   "execution_count": 5,
   "id": "cff0f5c0",
   "metadata": {},
   "outputs": [
    {
     "name": "stdout",
     "output_type": "stream",
     "text": [
      "Enter number: 0\n",
      "0 is zero\n"
     ]
    }
   ],
   "source": [
    "num = int(input(\"Enter number: \"))\n",
    "if num > 0.0  and (num % 2) == 0:\n",
    "    print(f\"{num} is positive even number\")\n",
    "    \n",
    "elif num > 0.0  and (num % 2) > 0:\n",
    "    print(f\"{num} is positve odd number\")\n",
    "    \n",
    "elif num < 0.0  and (num % 2) > 0:\n",
    "    print(f\"{num} is negative odd number\") \n",
    "    \n",
    "elif num < 0.0  and (num % 2) == 0:\n",
    "    print(f\"{num} is negative even number\")\n",
    "    \n",
    "elif num < 0.0  and (num % 2) == 0:\n",
    "    print(f\"{num} is negative and an even number\")\n",
    "    \n",
    "else: # num == 0:\n",
    "    print(f\"{num} is zero\")\n",
    "   #print(f\"{num} is zero\")\n",
    "#else: \n",
    "#    print(\"Negative\")\n"
   ]
  },
  {
   "cell_type": "code",
   "execution_count": null,
   "id": "ddcd8c4b",
   "metadata": {},
   "outputs": [],
   "source": [
    "number = int(input(\"Enter number: \"))\n",
    "\n",
    "def ode(num):\n",
    "    if num > 0.0:\n",
    "        return(\"Positive\")\n",
    "        #print(f\"{num} is a positive number\")\n",
    "    elif num == 0:\n",
    "        return(\"Negative\")\n",
    "        #print(f\"{num} is zero\")\n",
    "    else: \n",
    "        print(f\"{num} is a negative number\")\n",
    "check = ode(number)\n",
    "if check % 2 == 0:\n",
    "    print(\"even\")\n"
   ]
  },
  {
   "cell_type": "markdown",
   "id": "79c9381b",
   "metadata": {},
   "source": [
    "### Quadratic Equation Solver:\n",
    "\n",
    "Build a program that solves a quadratic equation (ax^2 + bx + c = 0) where the coefficients a, b, and c are input by the user. Handle cases for real and complex roots."
   ]
  },
  {
   "cell_type": "code",
   "execution_count": 23,
   "id": "39411b21",
   "metadata": {},
   "outputs": [
    {
     "name": "stdout",
     "output_type": "stream",
     "text": [
      "Enter the coefficient for X^2: 255\n",
      "Enter the coefficient for X: 3\n",
      "Enter the value for c: 2\n",
      "complex roots: 0.08248356344504901 and -0.09424826932740196\n"
     ]
    }
   ],
   "source": [
    "from math import sqrt\n",
    "\n",
    "a = int(input(\"Enter the coefficient for X^2: \"))\n",
    "b = int(input(\"Enter the coefficient for X: \"))\n",
    "c = int(input(\"Enter the value for c: \"))\n",
    "\n",
    "delta = b**2 - 4*a*c\n",
    "\n",
    "if delta > 0: \n",
    "    root1 = (-b + sqrt(delta))/ (2*a)\n",
    "    root2 = (-b - sqrt(delta))/ (2*a)\n",
    "    print(f\"Two real roots: {root1} and {root2}\")\n",
    "elif delta == 0:\n",
    "    root = -b / (2*a)\n",
    "    print(f\"One real root: {root}\")\n",
    "elif delta < 0:\n",
    "    real_part = -b / (2*a)\n",
    "    imag_part = sqrt(abs(delta)) / (2*a)\n",
    "    print(f\"complex roots: {real_part + imag_part * 1} and {real_part - imag_part}\")\n",
    "\n"
   ]
  },
  {
   "cell_type": "markdown",
   "id": "ae36a437",
   "metadata": {},
   "source": [
    "### Password Strength Checker:\n",
    "\n",
    "Develop a program that checks the strength of a password. Consider criteria such as length, inclusion of uppercase and lowercase letters, numbers, and special characters."
   ]
  },
  {
   "cell_type": "code",
   "execution_count": 37,
   "id": "de594fef",
   "metadata": {},
   "outputs": [
    {
     "name": "stdout",
     "output_type": "stream",
     "text": [
      "Enter password: hjbkmnjoio8895\n",
      "hjbkmnjoio8895 is a strong password\n"
     ]
    }
   ],
   "source": [
    "password = input(\"Enter password: \")\n",
    "charr = ()\n",
    "if len(password) >= 12 and any(char in password for char in \"!@#$%^&*0123456789\"):\n",
    "    print(f\"{password} is a strong password\")\n",
    "elif len(password) >= 8 and any(char in password for char in \"1234567890\"):\n",
    "    print(f\"{password} is normal\")\n",
    "                                 \n",
    "else:\n",
    "    print(f\"{password} is weak\")"
   ]
  },
  {
   "cell_type": "code",
   "execution_count": 25,
   "id": "95782885",
   "metadata": {},
   "outputs": [
    {
     "ename": "SyntaxError",
     "evalue": "invalid syntax (4203392658.py, line 6)",
     "output_type": "error",
     "traceback": [
      "\u001b[1;36m  Cell \u001b[1;32mIn[25], line 6\u001b[1;36m\u001b[0m\n\u001b[1;33m    strenghtScore +=\u001b[0m\n\u001b[1;37m                     ^\u001b[0m\n\u001b[1;31mSyntaxError\u001b[0m\u001b[1;31m:\u001b[0m invalid syntax\n"
     ]
    }
   ],
   "source": [
    "\n",
    "def checkPasswordStrength(password):\n",
    "    strenthScore = 0\n",
    "    \n",
    "    #check password lentgh\n",
    "    if lenght(password)>= 8:\n",
    "        strenghtScore += \n",
    "    if containsUppercase(password):\n",
    "        strenghtScore += 1\n",
    "    if containsLowercase(password):\n",
    "        strenghtScore += 1\n",
    "return(password)"
   ]
  },
  {
   "cell_type": "code",
   "execution_count": null,
   "id": "ffe944ad",
   "metadata": {},
   "outputs": [],
   "source": [
    "Palindrome Checker:\n",
    "\n",
    "Write a program that checks if a given word or phrase is a palindrome, considering spaces and ignoring case.\n",
    "Password Strength Checker:\n",
    "\n",
    "Create a program that evaluates the strength of a password based on certain criteria such as length, inclusion of special characters, and a mix of uppercase and lowercase letters."
   ]
  },
  {
   "cell_type": "code",
   "execution_count": null,
   "id": "a404c5a3",
   "metadata": {},
   "outputs": [],
   "source": []
  },
  {
   "cell_type": "code",
   "execution_count": null,
   "id": "f5d14786",
   "metadata": {},
   "outputs": [],
   "source": []
  },
  {
   "cell_type": "markdown",
   "id": "4561d924",
   "metadata": {},
   "source": [
    "# While loop"
   ]
  },
  {
   "cell_type": "code",
   "execution_count": 4,
   "id": "e1b067ee",
   "metadata": {},
   "outputs": [
    {
     "name": "stdout",
     "output_type": "stream",
     "text": [
      "The total is: 30\n"
     ]
    }
   ],
   "source": [
    "number = [2, 4, 6, 8, 10]\n",
    "total = 0\n",
    "for num in number:\n",
    "    total += num\n",
    "print(\"The total is:\", total)"
   ]
  },
  {
   "cell_type": "code",
   "execution_count": null,
   "id": "e424b400",
   "metadata": {},
   "outputs": [
    {
     "name": "stdout",
     "output_type": "stream",
     "text": [
      "Enter number between 0 and 100\n",
      "0\n",
      "Enter number between 0 and 1012\n",
      "12\n"
     ]
    }
   ],
   "source": [
    "while True:\n",
    "    num = int(input(\"Enter number between 0 and 10\"))\n",
    "    print(num)\n",
    "    if num >= 10 and num <= 0:\n",
    "        break"
   ]
  },
  {
   "cell_type": "code",
   "execution_count": 1,
   "id": "4201fc0f",
   "metadata": {},
   "outputs": [
    {
     "name": "stdout",
     "output_type": "stream",
     "text": [
      "Enter a positive number: 5\n",
      "5\n",
      "Enter a positive number: -5\n",
      "-5\n"
     ]
    }
   ],
   "source": [
    "while True:\n",
    "    num = int(input(\"Enter a positive number: \"))\n",
    "    print(num)\n",
    "    if not num > 0:\n",
    "        break"
   ]
  },
  {
   "cell_type": "code",
   "execution_count": 1,
   "id": "0e1a0fd8",
   "metadata": {},
   "outputs": [
    {
     "name": "stdout",
     "output_type": "stream",
     "text": [
      "Guess a number between 1 and 10 4\n",
      "Guess a number between 1 and 10 (less than 4)2\n",
      "Guess a number between 1 and 10 (less than 2)1\n",
      "You guessed it! The secret number is 1\n"
     ]
    }
   ],
   "source": [
    "from random import randint\n",
    "LOW, HIGH = 1, 10\n",
    "\n",
    "secret_number = randint(LOW, HIGH)\n",
    "clue=\"\"\n",
    "while True:\n",
    "    guess = input(f\"Guess a number between {LOW} and {HIGH} {clue}\")\n",
    "    number =int(guess)\n",
    "    if number > secret_number:\n",
    "        clue = f\"(less than {number})\"\n",
    "    elif number < secret_number:\n",
    "        clue = f\"(greater than {number})\"\n",
    "    else:\n",
    "        break\n",
    "print(f\"You guessed it! The secret number is {number}\")"
   ]
  },
  {
   "cell_type": "code",
   "execution_count": 8,
   "id": "f2f14182",
   "metadata": {},
   "outputs": [
    {
     "name": "stdout",
     "output_type": "stream",
     "text": [
      "['Borle dfd']\n"
     ]
    }
   ],
   "source": [
    "name = \"Borle dfd\"\n",
    "print(name.split(\",\"))"
   ]
  },
  {
   "cell_type": "markdown",
   "id": "a79deeb1",
   "metadata": {},
   "source": [
    "# User define functions"
   ]
  },
  {
   "cell_type": "code",
   "execution_count": 3,
   "id": "1778530e",
   "metadata": {},
   "outputs": [
    {
     "name": "stdout",
     "output_type": "stream",
     "text": [
      "Enter your name: ayu\n",
      "Hello ayu\n"
     ]
    }
   ],
   "source": [
    "def hello():\n",
    "  name = str(input(\"Enter your name: \"))\n",
    "  if name:\n",
    "    print (\"Hello \" + str(name))\n",
    "  else:\n",
    "    print(\"Hello World\") \n",
    "  return \n",
    "  \n",
    "hello()"
   ]
  },
  {
   "cell_type": "code",
   "execution_count": 5,
   "id": "595396cd",
   "metadata": {},
   "outputs": [
    {
     "name": "stdout",
     "output_type": "stream",
     "text": [
      "Enter your name: Kojo peter\n",
      "Ener your password: Hot6006s\n",
      "Access granted\n"
     ]
    }
   ],
   "source": [
    "username = input(\"Enter your name: \")\n",
    "password = input (\"Ener your password: \")\n",
    "\n",
    "def access_control(user, pword):\n",
    "    if user == \"Kojo peter\" and pword == \"Hot6006s\":\n",
    "        return True\n",
    "    else:\n",
    "        return False\n",
    "verified = access_control(username, password)\n",
    "\n",
    "if verified == True:\n",
    "    print(\"Access granted\")\n",
    "else:\n",
    "    print(\"Access Denied\")"
   ]
  },
  {
   "cell_type": "code",
   "execution_count": null,
   "id": "c8a692e2",
   "metadata": {},
   "outputs": [],
   "source": [
    "def hello():\n",
    "    name = str(input(\"Enter you name: \"))\n",
    "    if name: \n",
    "        print(\"Hello \" + str(name))\n",
    "    else:\n",
    "        print(\"Hello, Welcome\")\n",
    "hello()\n",
    "                     \n",
    "    "
   ]
  },
  {
   "cell_type": "code",
   "execution_count": null,
   "id": "c18812b0",
   "metadata": {},
   "outputs": [],
   "source": []
  }
 ],
 "metadata": {
  "kernelspec": {
   "display_name": "Python 3 (ipykernel)",
   "language": "python",
   "name": "python3"
  },
  "language_info": {
   "codemirror_mode": {
    "name": "ipython",
    "version": 3
   },
   "file_extension": ".py",
   "mimetype": "text/x-python",
   "name": "python",
   "nbconvert_exporter": "python",
   "pygments_lexer": "ipython3",
   "version": "3.11.7"
  }
 },
 "nbformat": 4,
 "nbformat_minor": 5
}
