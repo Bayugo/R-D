{
 "cells": [
  {
   "cell_type": "code",
   "execution_count": 1,
   "id": "dc2827b1-fbfb-42f0-a30a-6ecb93ed88ea",
   "metadata": {},
   "outputs": [],
   "source": [
    "#import libraries\n",
    "\n",
    "import numpy as np\n",
    "import pandas as pd"
   ]
  },
  {
   "cell_type": "code",
   "execution_count": 2,
   "id": "9536260e-6db0-48b9-a07e-1db1b0650e2f",
   "metadata": {},
   "outputs": [],
   "source": [
    "df = pd.read_csv(\"GP.csv\")"
   ]
  },
  {
   "cell_type": "code",
   "execution_count": 3,
   "id": "3cef87ec-11e6-46fb-99f7-2866fcc164ac",
   "metadata": {},
   "outputs": [
    {
     "data": {
      "text/plain": [
       "(57, 2)"
      ]
     },
     "execution_count": 3,
     "metadata": {},
     "output_type": "execute_result"
    }
   ],
   "source": [
    "df.shape"
   ]
  },
  {
   "cell_type": "code",
   "execution_count": 4,
   "id": "e2875254-b94e-439a-a783-919942a4884e",
   "metadata": {},
   "outputs": [
    {
     "data": {
      "text/plain": [
       "Index(['Grade Point', 'Credit Hours'], dtype='object')"
      ]
     },
     "execution_count": 4,
     "metadata": {},
     "output_type": "execute_result"
    }
   ],
   "source": [
    "df.columns"
   ]
  },
  {
   "cell_type": "code",
   "execution_count": 5,
   "id": "2a675873-1ac8-4870-94b5-407f67b302e1",
   "metadata": {},
   "outputs": [
    {
     "data": {
      "text/plain": [
       "Grade Point     float64\n",
       "Credit Hours      int64\n",
       "dtype: object"
      ]
     },
     "execution_count": 5,
     "metadata": {},
     "output_type": "execute_result"
    }
   ],
   "source": [
    "df.dtypes"
   ]
  },
  {
   "cell_type": "code",
   "execution_count": 6,
   "id": "7dba6103-b7d1-45b4-8935-1da2d24bf58a",
   "metadata": {},
   "outputs": [
    {
     "name": "stdout",
     "output_type": "stream",
     "text": [
      "Grade Point     float64\n",
      "Credit Hours      int32\n",
      "dtype: object\n"
     ]
    }
   ],
   "source": [
    "# Convert the columns to integers\n",
    "df['Grade Point'] = df['Grade Point'].astype(float)\n",
    "df['Credit Hours'] = df['Credit Hours'].astype(int)\n",
    "\n",
    "# Verify the changes\n",
    "print(df.dtypes)\n"
   ]
  },
  {
   "cell_type": "code",
   "execution_count": 7,
   "id": "425b2419-980d-492d-8880-5ef69d4b9132",
   "metadata": {},
   "outputs": [
    {
     "name": "stdout",
     "output_type": "stream",
     "text": [
      "DataFrame saved to 'output_file.csv'\n"
     ]
    }
   ],
   "source": [
    "# Save the DataFrame to a CSV file\n",
    "df.to_csv('output_file.csv', index=False)\n",
    "\n",
    "# The file will be saved in the current working directory\n",
    "print(\"DataFrame saved to 'output_file.csv'\")\n"
   ]
  },
  {
   "cell_type": "code",
   "execution_count": null,
   "id": "c0c345e3-92e4-4cd8-8122-92b7225d1be5",
   "metadata": {},
   "outputs": [],
   "source": []
  }
 ],
 "metadata": {
  "kernelspec": {
   "display_name": "Python 3 (ipykernel)",
   "language": "python",
   "name": "python3"
  },
  "language_info": {
   "codemirror_mode": {
    "name": "ipython",
    "version": 3
   },
   "file_extension": ".py",
   "mimetype": "text/x-python",
   "name": "python",
   "nbconvert_exporter": "python",
   "pygments_lexer": "ipython3",
   "version": "3.11.7"
  }
 },
 "nbformat": 4,
 "nbformat_minor": 5
}
